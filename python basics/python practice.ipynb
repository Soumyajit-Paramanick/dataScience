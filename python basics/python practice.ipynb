{
 "cells": [
  {
   "cell_type": "code",
   "execution_count": 1,
   "id": "853f9bd1",
   "metadata": {
    "scrolled": true
   },
   "outputs": [
    {
     "name": "stdout",
     "output_type": "stream",
     "text": [
      "hello world\n"
     ]
    }
   ],
   "source": [
    "print(\"hello world\")"
   ]
  },
  {
   "cell_type": "code",
   "execution_count": 3,
   "id": "3941e496",
   "metadata": {},
   "outputs": [
    {
     "name": "stdout",
     "output_type": "stream",
     "text": [
      "29\n"
     ]
    }
   ],
   "source": [
    "print(17+12)"
   ]
  },
  {
   "cell_type": "code",
   "execution_count": 5,
   "id": "8c054f90",
   "metadata": {},
   "outputs": [
    {
     "name": "stdout",
     "output_type": "stream",
     "text": [
      "hay i am a good boy\n"
     ]
    }
   ],
   "source": [
    "print(\"hay i am a good boy\")"
   ]
  },
  {
   "cell_type": "code",
   "execution_count": 8,
   "id": "373300e3",
   "metadata": {},
   "outputs": [
    {
     "name": "stdout",
     "output_type": "stream",
     "text": [
      "hay i am a good\n",
      " boy\n",
      "and this boy is also a good boy\n"
     ]
    }
   ],
   "source": [
    "print(\"\"\"hay i am a good\\n boy\n",
    "and this boy is also a good boy\"\"\")"
   ]
  },
  {
   "cell_type": "code",
   "execution_count": 16,
   "id": "818f0be4",
   "metadata": {},
   "outputs": [],
   "source": [
    "# hay soumya dont execute this line"
   ]
  },
  {
   "cell_type": "code",
   "execution_count": 19,
   "id": "78639f74",
   "metadata": {},
   "outputs": [],
   "source": [
    "# \"\"\"write anything\"\"\" and '''write anything''' thise are use for multi line command in python"
   ]
  },
  {
   "cell_type": "code",
   "execution_count": 20,
   "id": "353dac77",
   "metadata": {},
   "outputs": [],
   "source": [
    "# escape sequence"
   ]
  },
  {
   "cell_type": "code",
   "execution_count": 23,
   "id": "0c420df1",
   "metadata": {},
   "outputs": [
    {
     "name": "stdout",
     "output_type": "stream",
     "text": [
      "Hay I am a \"good boy\" and he is \n",
      "also a good boy\n"
     ]
    }
   ],
   "source": [
    "print(\"Hay I am a \\\"good boy\\\" and he is \\nalso a good boy\")"
   ]
  },
  {
   "cell_type": "code",
   "execution_count": 25,
   "id": "6304837d",
   "metadata": {},
   "outputs": [
    {
     "name": "stdout",
     "output_type": "stream",
     "text": [
      "Hey~6~7\n",
      "Hey 6 7\n"
     ]
    }
   ],
   "source": [
    "print(\"Hey\", 6, 7, sep = \"~\")\n",
    "print(\"Hey\", 6, 7)"
   ]
  },
  {
   "cell_type": "code",
   "execution_count": 27,
   "id": "cf7160a9",
   "metadata": {},
   "outputs": [
    {
     "name": "stdout",
     "output_type": "stream",
     "text": [
      "Hey~6~7009\n",
      "oye Hey\n"
     ]
    }
   ],
   "source": [
    "print(\"Hey\", 6, 7, sep = \"~\", end = \"009\\\")\n",
    "print(\"oye Hey\")"
   ]
  },
  {
   "cell_type": "code",
   "execution_count": 3,
   "id": "14c244e6",
   "metadata": {},
   "outputs": [
    {
     "name": "stdout",
     "output_type": "stream",
     "text": [
      "5\n"
     ]
    }
   ],
   "source": [
    "a = 5\n",
    "print(a)"
   ]
  },
  {
   "cell_type": "code",
   "execution_count": 4,
   "id": "9f06ba35",
   "metadata": {},
   "outputs": [
    {
     "name": "stdout",
     "output_type": "stream",
     "text": [
      "soumya\n"
     ]
    }
   ],
   "source": [
    "b = 'soumya'\n",
    "print(b)"
   ]
  },
  {
   "cell_type": "code",
   "execution_count": 6,
   "id": "a4466b22",
   "metadata": {},
   "outputs": [
    {
     "name": "stdout",
     "output_type": "stream",
     "text": [
      "the type of b is <class 'str'>\n"
     ]
    }
   ],
   "source": [
    "print(\"the type of b is\", type(b))"
   ]
  },
  {
   "cell_type": "code",
   "execution_count": 8,
   "id": "a8033201",
   "metadata": {},
   "outputs": [
    {
     "name": "stdout",
     "output_type": "stream",
     "text": [
      "the type of b is <class 'int'>\n"
     ]
    }
   ],
   "source": [
    "print(\"the type of b is\", type(a))"
   ]
  },
  {
   "cell_type": "code",
   "execution_count": 11,
   "id": "74cfda53",
   "metadata": {},
   "outputs": [
    {
     "name": "stdout",
     "output_type": "stream",
     "text": [
      "(6+2j)\n",
      "the type of b is <class 'complex'>\n"
     ]
    }
   ],
   "source": [
    "d = complex(6,2)\n",
    "print(d)\n",
    "print(\"the type of b is\", type(d))"
   ]
  },
  {
   "cell_type": "code",
   "execution_count": 14,
   "id": "3403bcf6",
   "metadata": {},
   "outputs": [
    {
     "name": "stdout",
     "output_type": "stream",
     "text": [
      "[8, 2.3, [-4, 5], ['apple', 'banana']]\n",
      "[8, 6, [-4, 5], ['apple', 'banana']]\n"
     ]
    }
   ],
   "source": [
    "list1 = [8, 2.3,[-4,5],[\"apple\", \"banana\"]]\n",
    "print(list1)\n",
    "list1[1] = 6\n",
    "print(list1)\n",
    "# list are mutable"
   ]
  },
  {
   "cell_type": "code",
   "execution_count": 19,
   "id": "9105ed3e",
   "metadata": {},
   "outputs": [
    {
     "name": "stdout",
     "output_type": "stream",
     "text": [
      "(8, 2.3, [-4, 5], ('apple', 'banana'))\n"
     ]
    }
   ],
   "source": [
    "tuple1 = (8, 2.3,[-4,5],(\"apple\", \"banana\"))\n",
    "print(tuple1)"
   ]
  },
  {
   "cell_type": "code",
   "execution_count": 21,
   "id": "494af09e",
   "metadata": {},
   "outputs": [
    {
     "ename": "TypeError",
     "evalue": "'tuple' object does not support item assignment",
     "output_type": "error",
     "traceback": [
      "\u001b[1;31m---------------------------------------------------------------------------\u001b[0m",
      "\u001b[1;31mTypeError\u001b[0m                                 Traceback (most recent call last)",
      "\u001b[1;32m~\\AppData\\Local\\Temp\\ipykernel_14248\\960269102.py\u001b[0m in \u001b[0;36m<module>\u001b[1;34m\u001b[0m\n\u001b[1;32m----> 1\u001b[1;33m \u001b[0mtuple1\u001b[0m\u001b[1;33m[\u001b[0m\u001b[1;36m1\u001b[0m\u001b[1;33m]\u001b[0m \u001b[1;33m=\u001b[0m \u001b[1;36m24\u001b[0m\u001b[1;33m\u001b[0m\u001b[1;33m\u001b[0m\u001b[0m\n\u001b[0m",
      "\u001b[1;31mTypeError\u001b[0m: 'tuple' object does not support item assignment"
     ]
    }
   ],
   "source": [
    "tuple1[1] = 24"
   ]
  },
  {
   "cell_type": "code",
   "execution_count": 21,
   "id": "e9c0845a",
   "metadata": {},
   "outputs": [
    {
     "name": "stdout",
     "output_type": "stream",
     "text": [
      "{'name': 'soumya', 'age': 20, 'can vote': True}\n",
      "soumya\n",
      "20\n",
      "True\n"
     ]
    }
   ],
   "source": [
    "dictionary1 = {\"name\" : \"soumya\", \"age\" : 20, \"can vote\" : True}\n",
    "print(dictionary1)\n",
    "for i in dictionary1:\n",
    "    print(dictionary1[i])"
   ]
  },
  {
   "cell_type": "code",
   "execution_count": 27,
   "id": "fb1015ba",
   "metadata": {},
   "outputs": [
    {
     "name": "stdout",
     "output_type": "stream",
     "text": [
      "20\n"
     ]
    }
   ],
   "source": [
    "print (dictionary1['age'])"
   ]
  },
  {
   "cell_type": "code",
   "execution_count": 31,
   "id": "2853f4be",
   "metadata": {},
   "outputs": [
    {
     "ename": "IndexError",
     "evalue": "list index out of range",
     "output_type": "error",
     "traceback": [
      "\u001b[1;31m---------------------------------------------------------------------------\u001b[0m",
      "\u001b[1;31mIndexError\u001b[0m                                Traceback (most recent call last)",
      "\u001b[1;32m~\\AppData\\Local\\Temp\\ipykernel_14248\\655641861.py\u001b[0m in \u001b[0;36m<module>\u001b[1;34m\u001b[0m\n\u001b[0;32m      1\u001b[0m \u001b[0mduc\u001b[0m \u001b[1;33m=\u001b[0m \u001b[1;36m0\u001b[0m\u001b[1;33m\u001b[0m\u001b[1;33m\u001b[0m\u001b[0m\n\u001b[0;32m      2\u001b[0m \u001b[1;32mfor\u001b[0m \u001b[0mdic\u001b[0m \u001b[1;32min\u001b[0m \u001b[0mlist1\u001b[0m\u001b[1;33m:\u001b[0m\u001b[1;33m\u001b[0m\u001b[1;33m\u001b[0m\u001b[0m\n\u001b[1;32m----> 3\u001b[1;33m     \u001b[0mprint\u001b[0m\u001b[1;33m(\u001b[0m\u001b[0mlist1\u001b[0m\u001b[1;33m[\u001b[0m\u001b[0mdic\u001b[0m\u001b[1;33m]\u001b[0m\u001b[1;33m)\u001b[0m\u001b[1;33m\u001b[0m\u001b[1;33m\u001b[0m\u001b[0m\n\u001b[0m",
      "\u001b[1;31mIndexError\u001b[0m: list index out of range"
     ]
    }
   ],
   "source": [
    "\n",
    "for dic in list1:\n",
    "    print(list1[dic])"
   ]
  },
  {
   "cell_type": "code",
   "execution_count": 32,
   "id": "9a69355c",
   "metadata": {},
   "outputs": [],
   "source": [
    "#operator in python"
   ]
  },
  {
   "cell_type": "code",
   "execution_count": 3,
   "id": "191a4ff7",
   "metadata": {},
   "outputs": [],
   "source": [
    "def calculator (a1,b1,c1) :\n",
    "    a = float(a1)\n",
    "    b= float(b1)\n",
    "    operator = int(c1)\n",
    "    if operator == 1:\n",
    "        print(\"a + b = \", a+b)\n",
    "    if operator == 2:\n",
    "        print(\"a - b = \", a-b)\n",
    "    if operator == 3:\n",
    "        print(\"a * b = \", a*b)\n",
    "    if operator == 4:\n",
    "        print(\"a / b = \", a/b)\n",
    "    if operator == 5:\n",
    "        print(\"a // b = \", a//b)\n",
    "    if operator == 6:\n",
    "        print(\"a % b = \", a%b)"
   ]
  },
  {
   "cell_type": "code",
   "execution_count": 4,
   "id": "2608d10a",
   "metadata": {},
   "outputs": [
    {
     "name": "stdout",
     "output_type": "stream",
     "text": [
      "enter the value of a : 4\n",
      "enter the value of b : 5\n",
      "enter the operator numer\n",
      "press 1 for addition\n",
      "press 2 for subtracion\n",
      "press 3 for multiplication\n",
      "press 4 for divition\n",
      "press 5 for divition with integer value\n",
      "press 6 for calculating the remainder2\n",
      "a - b =  -1.0\n"
     ]
    }
   ],
   "source": [
    "a = input(\"enter the value of a : \")\n",
    "b = input(\"enter the value of b : \")\n",
    "operator = input(\"\"\"enter the operator numer\n",
    "press 1 for addition\n",
    "press 2 for subtracion\n",
    "press 3 for multiplication\n",
    "press 4 for divition\n",
    "press 5 for divition with integer value\n",
    "press 6 for calculating the remainder\"\"\")\n",
    "calculator(a,b, operator)"
   ]
  },
  {
   "cell_type": "code",
   "execution_count": 1,
   "id": "ceaf5c3d",
   "metadata": {},
   "outputs": [
    {
     "name": "stdout",
     "output_type": "stream",
     "text": [
      "enter the value of a : 6\n",
      "enter the value of b : 7\n",
      "enter the operator numer\n",
      "press 1 for addition\n",
      "press 2 for subtracion\n",
      "press 3 for multiplication\n",
      "press 4 for divition\n",
      "press 5 for divition with integer value\n",
      "press 6 for calculating the remainder1\n",
      "a + b =  13.0\n"
     ]
    }
   ],
   "source": [
    "def calculator (a1,b1,c1) :\n",
    "    a = float(a1)\n",
    "    b= float(b1)\n",
    "    operator = int(c1)\n",
    "    if operator == 1:\n",
    "        print(\"a + b = \", a+b)\n",
    "    if operator == 2:\n",
    "        print(\"a - b = \", a-b)\n",
    "    if operator == 3:\n",
    "        print(\"a * b = \", a*b)\n",
    "    if operator == 4:\n",
    "        print(\"a / b = \", a/b)\n",
    "    if operator == 5:\n",
    "        print(\"a // b = \", a//b)\n",
    "    if operator == 6:\n",
    "        print(\"a % b = \", a%b)\n",
    "\n",
    "a = input(\"enter the value of a : \")\n",
    "b = input(\"enter the value of b : \")\n",
    "operator = input(\"\"\"enter the operator numer\n",
    "press 1 for addition\n",
    "press 2 for subtracion\n",
    "press 3 for multiplication\n",
    "press 4 for divition\n",
    "press 5 for divition with integer value\n",
    "press 6 for calculating the remainder\"\"\")\n",
    "calculator(a,b, operator)"
   ]
  },
  {
   "cell_type": "markdown",
   "id": "2dd31f1a",
   "metadata": {},
   "source": [
    "\n",
    "\n"
   ]
  },
  {
   "cell_type": "markdown",
   "id": "b4d93ed1",
   "metadata": {},
   "source": []
  },
  {
   "cell_type": "code",
   "execution_count": 15,
   "id": "7b892d28",
   "metadata": {},
   "outputs": [
    {
     "name": "stdout",
     "output_type": "stream",
     "text": [
      "4\n"
     ]
    }
   ],
   "source": [
    "a = '1'\n",
    "b = \"jit\"\n",
    "c = 1\n",
    "print(int(a)+len(b))"
   ]
  },
  {
   "cell_type": "code",
   "execution_count": 16,
   "id": "4471f0b4",
   "metadata": {},
   "outputs": [
    {
     "name": "stdout",
     "output_type": "stream",
     "text": [
      "9.9\n"
     ]
    }
   ],
   "source": [
    "#implicit type casting\n",
    "\n",
    "c = 1.9\n",
    "d = 8\n",
    "print(c+d)"
   ]
  },
  {
   "cell_type": "code",
   "execution_count": 17,
   "id": "149ecbc6",
   "metadata": {},
   "outputs": [],
   "source": [
    "# Taking User Input in Python"
   ]
  },
  {
   "cell_type": "code",
   "execution_count": 35,
   "id": "bcb6caba",
   "metadata": {},
   "outputs": [
    {
     "name": "stdout",
     "output_type": "stream",
     "text": [
      "enter the numer you got in english : 134\n",
      "enter the numer you got in bengali : 136\n",
      "sum =  135\n"
     ]
    }
   ],
   "source": [
    "a = int(input(\"enter the numer you got in english : \"))\n",
    "b = int(input(\"enter the numer you got in bengali : \"))\n",
    "sum = int((a+b)/2)\n",
    "print(\"sum = \", sum)"
   ]
  },
  {
   "cell_type": "code",
   "execution_count": null,
   "id": "9c8a0a7d",
   "metadata": {},
   "outputs": [],
   "source": [
    "# Strings in Python"
   ]
  },
  {
   "cell_type": "code",
   "execution_count": 8,
   "id": "dd65562a",
   "metadata": {},
   "outputs": [
    {
     "name": "stdout",
     "output_type": "stream",
     "text": [
      "Hello you called as \"coder\" Soumya\n",
      "Hello you called as 'doner' Rohan\n"
     ]
    }
   ],
   "source": [
    "name = \"Soumya\"\n",
    "friend = 'Rohan'\n",
    "anotherFfriend = \"Lovish\"\n",
    "print(\"Hello you called as \\\"coder\\\" \" + name)\n",
    "print(\"Hello you called as 'doner' \" + friend)"
   ]
  },
  {
   "cell_type": "code",
   "execution_count": 10,
   "id": "03497482",
   "metadata": {},
   "outputs": [
    {
     "name": "stdout",
     "output_type": "stream",
     "text": [
      "hay\n",
      "how are \n",
      "you\n"
     ]
    }
   ],
   "source": [
    "h = \"\"\"hay\n",
    "how are \n",
    "you\"\"\"\n",
    "print(h)"
   ]
  },
  {
   "cell_type": "code",
   "execution_count": 11,
   "id": "627c062b",
   "metadata": {},
   "outputs": [
    {
     "name": "stdout",
     "output_type": "stream",
     "text": [
      "S\n"
     ]
    }
   ],
   "source": [
    "print(name[0])"
   ]
  },
  {
   "cell_type": "code",
   "execution_count": 12,
   "id": "4ed0e001",
   "metadata": {},
   "outputs": [
    {
     "name": "stdout",
     "output_type": "stream",
     "text": [
      "S\n",
      "o\n",
      "u\n",
      "m\n",
      "y\n",
      "a\n"
     ]
    }
   ],
   "source": [
    "for i in name:\n",
    "    print(i)"
   ]
  },
  {
   "cell_type": "code",
   "execution_count": 15,
   "id": "00c85dc8",
   "metadata": {},
   "outputs": [
    {
     "name": "stdout",
     "output_type": "stream",
     "text": [
      "1\n",
      "3\n",
      "4\n",
      "('apple', 'banana')\n"
     ]
    }
   ],
   "source": [
    "list = [1,3,4, (\"apple\", \"banana\")]\n",
    "for i in list:\n",
    "    print(i)"
   ]
  },
  {
   "cell_type": "code",
   "execution_count": 28,
   "id": "861f850d",
   "metadata": {},
   "outputs": [
    {
     "name": "stdout",
     "output_type": "stream",
     "text": [
      "harry,\n",
      "13\n"
     ]
    }
   ],
   "source": [
    "name = \"harry,shubham\"\n",
    "print(name[0:6])\n",
    "print(len(name))"
   ]
  },
  {
   "cell_type": "code",
   "execution_count": 42,
   "id": "d539b6f9",
   "metadata": {},
   "outputs": [
    {
     "name": "stdout",
     "output_type": "stream",
     "text": [
      "5\n",
      "mang\n",
      "ang\n",
      "mang\n",
      "mango\n",
      "mango\n",
      "ma\n",
      "ma\n",
      "o\n",
      "ng\n"
     ]
    }
   ],
   "source": [
    "fruit = \"mango\"\n",
    "mangolen = len(fruit)\n",
    "print(mangolen)\n",
    "print(fruit[0:4])\n",
    "print(fruit[1:4])\n",
    "print(fruit[:4])\n",
    "print(fruit[0:])\n",
    "print(fruit[:])\n",
    "print(fruit[0:-3]) # print(fruit[0:len(fruit)-3])\n",
    "print(fruit[0:len(fruit)-3])\n",
    "print(fruit[-1:])\n",
    "print(fruit[-3:-1]) # print(fruit[len(fruit)-3]: len(fruit)-1])"
   ]
  },
  {
   "cell_type": "code",
   "execution_count": 43,
   "id": "d6795f95",
   "metadata": {},
   "outputs": [
    {
     "name": "stdout",
     "output_type": "stream",
     "text": [
      "ar\n"
     ]
    }
   ],
   "source": [
    "name = \"harry\"\n",
    "print(name[-4:-2])"
   ]
  },
  {
   "cell_type": "code",
   "execution_count": 2,
   "id": "52dcedbd",
   "metadata": {},
   "outputs": [],
   "source": [
    "# String Methods in Python"
   ]
  },
  {
   "cell_type": "code",
   "execution_count": 6,
   "id": "d0909963",
   "metadata": {},
   "outputs": [
    {
     "name": "stdout",
     "output_type": "stream",
     "text": [
      "5\n",
      "HARRY\n",
      "Harry\n",
      "harry\n"
     ]
    }
   ],
   "source": [
    "a = \"Harry\"\n",
    "print(len(a))\n",
    "print(a.upper())\n",
    "print(a)\n",
    "print(a.lower())"
   ]
  },
  {
   "cell_type": "code",
   "execution_count": 7,
   "id": "56235eaf",
   "metadata": {},
   "outputs": [
    {
     "name": "stdout",
     "output_type": "stream",
     "text": [
      "15\n",
      "HARRY!!!!!!!!!!\n",
      "Harry!!!!!!!!!!\n",
      "harry!!!!!!!!!!\n",
      "Harry\n"
     ]
    }
   ],
   "source": [
    "a = \"Harry!!!!!!!!!!\"\n",
    "print(len(a))\n",
    "print(a.upper())\n",
    "print(a)\n",
    "print(a.lower())\n",
    "print(a.rstrip(\"!\"))"
   ]
  },
  {
   "cell_type": "code",
   "execution_count": 13,
   "id": "10708c78",
   "metadata": {},
   "outputs": [
    {
     "name": "stdout",
     "output_type": "stream",
     "text": [
      "21\n",
      "HARRY!!!!!!!!!! HARRY\n",
      "Harry!!!!!!!!!! Harry\n",
      "harry!!!!!!!!!! harry\n",
      "John!!!!!!!!!! John\n",
      "['Harry', '', '', '', '', 'Harry', '', '', '', '', ' Harry']\n"
     ]
    }
   ],
   "source": [
    "a = \"Harry!!!!!!!!!! Harry\"\n",
    "print(len(a))\n",
    "print(a.upper())\n",
    "print(a)\n",
    "print(a.lower())\n",
    "print(a.replace(\"Harry\", \"John\"))\n",
    "a = \"Harry!!!!!Harry!!!!! Harry\"\n",
    "print(a.split(\"!\"))"
   ]
  },
  {
   "cell_type": "code",
   "execution_count": 15,
   "id": "fc78431f",
   "metadata": {},
   "outputs": [
    {
     "name": "stdout",
     "output_type": "stream",
     "text": [
      "Introductin to js. asd ss\n"
     ]
    }
   ],
   "source": [
    "blogHeading = \"introductin to js. asd ss\"\n",
    "print(blogHeading.capitalize())"
   ]
  },
  {
   "cell_type": "code",
   "execution_count": 20,
   "id": "ecdbab8b",
   "metadata": {},
   "outputs": [
    {
     "name": "stdout",
     "output_type": "stream",
     "text": [
      "                                     I am moving towards center                                     \n",
      "2\n"
     ]
    }
   ],
   "source": [
    "str = \"I am moving towards center\"\n",
    "print(str.center(100))\n",
    "print(str.count(\"o\"))"
   ]
  },
  {
   "cell_type": "code",
   "execution_count": 21,
   "id": "1671a868",
   "metadata": {},
   "outputs": [
    {
     "name": "stdout",
     "output_type": "stream",
     "text": [
      "True\n"
     ]
    }
   ],
   "source": [
    "str1 = \"Welcome to the console !!!\"\n",
    "print(str1.endswith(\"!!!\"))"
   ]
  },
  {
   "cell_type": "code",
   "execution_count": 22,
   "id": "f7d0f663",
   "metadata": {},
   "outputs": [
    {
     "name": "stdout",
     "output_type": "stream",
     "text": [
      "True\n"
     ]
    }
   ],
   "source": [
    "str1 = \"Welcome to the console !!!\"\n",
    "print(str1.endswith(\"to\", 4,10))"
   ]
  },
  {
   "cell_type": "code",
   "execution_count": 24,
   "id": "4254ccd7",
   "metadata": {},
   "outputs": [
    {
     "name": "stdout",
     "output_type": "stream",
     "text": [
      "11\n",
      "-1\n"
     ]
    }
   ],
   "source": [
    "str1 = \"Welcome to the console !!!\"\n",
    "print(str1.find(\"the\"))\n",
    "print(str1.find(\"pi\"))"
   ]
  },
  {
   "cell_type": "code",
   "execution_count": 28,
   "id": "9362990a",
   "metadata": {},
   "outputs": [
    {
     "name": "stdout",
     "output_type": "stream",
     "text": [
      "False\n",
      "True\n"
     ]
    }
   ],
   "source": [
    "str1 = \"welcometo the conshole\"\n",
    "print(str1.isalnum())\n",
    "str1 = \"welcometotheconshole\"\n",
    "print(str1.isalnum())"
   ]
  },
  {
   "cell_type": "code",
   "execution_count": 32,
   "id": "c2d5e348",
   "metadata": {},
   "outputs": [
    {
     "name": "stdout",
     "output_type": "stream",
     "text": [
      "True\n",
      "False\n"
     ]
    }
   ],
   "source": [
    "str1 = \"welcometotheconshole\"\n",
    "print(str1.isalpha())\n",
    "str1 = \"welcometo1230theconshole\"\n",
    "print(str1.isalpha())"
   ]
  },
  {
   "cell_type": "code",
   "execution_count": 34,
   "id": "19bae543",
   "metadata": {},
   "outputs": [
    {
     "name": "stdout",
     "output_type": "stream",
     "text": [
      "True\n",
      "False\n"
     ]
    }
   ],
   "source": [
    "str1 = \"welcometotheconshole\"\n",
    "print(str1.islower())\n",
    "str1 = \"welcometothecTREonshole\"\n",
    "print(str1.islower())"
   ]
  },
  {
   "cell_type": "code",
   "execution_count": 36,
   "id": "0864a20f",
   "metadata": {},
   "outputs": [
    {
     "name": "stdout",
     "output_type": "stream",
     "text": [
      "True\n",
      "False\n"
     ]
    }
   ],
   "source": [
    "str1 = \"welcometotheconshole\"\n",
    "print(str1.isprintable())\n",
    "str1 = \"welcometoth\\neconshole\"\n",
    "print(str1.isprintable())"
   ]
  },
  {
   "cell_type": "code",
   "execution_count": 41,
   "id": "06771ce9",
   "metadata": {},
   "outputs": [
    {
     "name": "stdout",
     "output_type": "stream",
     "text": [
      "False\n",
      "False\n",
      "True\n"
     ]
    }
   ],
   "source": [
    "str1 = \"welcometotheconshole\"\n",
    "print(str1.isspace())\n",
    "str1 = \"            welcom           etotheconshole\"\n",
    "print(str1.isspace())\n",
    "str1 = \"            \"\n",
    "print(str1.isspace())"
   ]
  },
  {
   "cell_type": "code",
   "execution_count": 46,
   "id": "0353647d",
   "metadata": {},
   "outputs": [
    {
     "name": "stdout",
     "output_type": "stream",
     "text": [
      "False\n",
      "False\n"
     ]
    }
   ],
   "source": [
    "str1 = \"welcom etotheconshole\"\n",
    "print(str1.istitle())\n",
    "str1 = \"Aelcom etotheconshole\"\n",
    "print(str1.istitle())"
   ]
  },
  {
   "cell_type": "code",
   "execution_count": 2,
   "id": "515878af",
   "metadata": {},
   "outputs": [],
   "source": [
    "# If Else Conditional Statements in Python "
   ]
  },
  {
   "cell_type": "code",
   "execution_count": 8,
   "id": "415bda48",
   "metadata": {},
   "outputs": [
    {
     "name": "stdout",
     "output_type": "stream",
     "text": [
      "18:47:31\n",
      "18\n",
      "47\n",
      "31\n"
     ]
    }
   ],
   "source": [
    "import time\n",
    "timestamp = time.strftime('%H:%M:%S')\n",
    "print(timestamp)\n",
    "hour_time = time.strftime('%H')\n",
    "print(hour_time)\n",
    "minit_time = time.strftime('%M')\n",
    "print(minit_time)\n",
    "second_time = time.strftime('%S')\n",
    "print(second_time)"
   ]
  },
  {
   "cell_type": "code",
   "execution_count": null,
   "id": "229248d6",
   "metadata": {},
   "outputs": [],
   "source": [
    "import time\n",
    "t = time.localtime()\n",
    "\n",
    "hour = input(\"enter the hour : \")\n",
    "minit = input(\"enter the minit : \")\n",
    "second = input(\"enter the second : \")"
   ]
  },
  {
   "cell_type": "code",
   "execution_count": null,
   "id": "50e98620",
   "metadata": {},
   "outputs": [],
   "source": [
    "import time\n",
    "\n",
    "t = time.localtime()\n",
    "print(t)\n",
    "current_time = time.strftime(\"%H:%M:%S\", t)\n",
    "print(current_time)"
   ]
  },
  {
   "cell_type": "code",
   "execution_count": 1,
   "id": "eab3c215",
   "metadata": {},
   "outputs": [
    {
     "name": "stdout",
     "output_type": "stream",
     "text": [
      "present time is  11 : 18\n",
      "Good morning !!\n"
     ]
    }
   ],
   "source": [
    "# good morning , good afternoon .... program\n",
    "import time \n",
    "present_time = time.localtime()\n",
    "print(\"present time is \", present_time.tm_hour, \":\", present_time.tm_min )\n",
    "if(present_time.tm_hour>6 and present_time.tm_hour <= 12):\n",
    "    print(\"Good morning !!\")\n",
    "elif(present_time.tm_hour>12 and present_time.tm_hour <= 14):\n",
    "    print(\"Good noon !!\")\n",
    "elif(present_time.tm_hour>14 and present_time.tm_hour <= 18):\n",
    "    print(\"Good afternoon !!\")\n",
    "elif(present_time.tm_hour>18 and present_time.tm_hour <= 21):\n",
    "    print(\"Good evening !!\")\n",
    "elif(present_time.tm_hour>21 and present_time.tm_hour <=23 or present_time.tm_min <= 59):\n",
    "    print(\"Good night !!\")\n",
    "else:\n",
    "    print(\"please don't disturb me\")"
   ]
  },
  {
   "cell_type": "code",
   "execution_count": 6,
   "id": "15e4719b",
   "metadata": {},
   "outputs": [
    {
     "ename": "SyntaxError",
     "evalue": "invalid syntax (1646382176.py, line 3)",
     "output_type": "error",
     "traceback": [
      "\u001b[1;36m  File \u001b[1;32m\"C:\\Users\\Soumyajit\\AppData\\Local\\Temp\\ipykernel_11948\\1646382176.py\"\u001b[1;36m, line \u001b[1;32m3\u001b[0m\n\u001b[1;33m    match x:\u001b[0m\n\u001b[1;37m          ^\u001b[0m\n\u001b[1;31mSyntaxError\u001b[0m\u001b[1;31m:\u001b[0m invalid syntax\n"
     ]
    }
   ],
   "source": [
    "# Match Case Statements in Python \n",
    "x = int(input(\"Enter the value of x : \"))\n",
    "match x:\n",
    "    case 0:\n",
    "        print(\"This is case 0\")\n",
    "    case 4:\n",
    "        print(\"This is case 4\")\n",
    "    case 6:\n",
    "        print(\"This is case 6\")\n",
    "    case _:\n",
    "        print(\"This is case default\")"
   ]
  },
  {
   "cell_type": "code",
   "execution_count": 9,
   "id": "279ef0f7",
   "metadata": {},
   "outputs": [
    {
     "name": "stdout",
     "output_type": "stream",
     "text": [
      "1\n",
      "2\n",
      "3\n",
      "4\n",
      "5\n",
      "6\n",
      "7\n",
      "8\n",
      "9\n"
     ]
    }
   ],
   "source": [
    "# For Loops in Python\n",
    "for i in range(1,10):\n",
    "    print(i)"
   ]
  },
  {
   "cell_type": "code",
   "execution_count": 11,
   "id": "57de7fe0",
   "metadata": {},
   "outputs": [
    {
     "name": "stdout",
     "output_type": "stream",
     "text": [
      "1\n",
      "3\n",
      "5\n",
      "7\n",
      "9\n"
     ]
    }
   ],
   "source": [
    "for i in range(1,10,2):\n",
    "    print(i)"
   ]
  },
  {
   "cell_type": "code",
   "execution_count": 13,
   "id": "f425499d",
   "metadata": {},
   "outputs": [
    {
     "name": "stdout",
     "output_type": "stream",
     "text": [
      "1    3    5    7    9    "
     ]
    }
   ],
   "source": [
    "for i in range (1,10,2):\n",
    "    print(i, end = \"    \")"
   ]
  },
  {
   "cell_type": "code",
   "execution_count": 8,
   "id": "640d915b",
   "metadata": {},
   "outputs": [
    {
     "name": "stdout",
     "output_type": "stream",
     "text": [
      "1\n",
      "hi\n",
      "2.4\n",
      "['soumya', 'jit']\n",
      "{'name': 'soumya', 'full_name': 'soumyajit'}\n"
     ]
    }
   ],
   "source": [
    "list = [ 1, \"hi\", 2.4, [\"soumya\", \"jit\"], {\"name\" : \"soumya\", \"full_name\" : \"soumyajit\"}]\n",
    "for i in list:\n",
    "    print(i)\n",
    "    "
   ]
  },
  {
   "cell_type": "code",
   "execution_count": 27,
   "id": "1cc8a458",
   "metadata": {},
   "outputs": [
    {
     "name": "stdout",
     "output_type": "stream",
     "text": [
      "['soumya', 'jit']\n"
     ]
    }
   ],
   "source": [
    "list = [ 1, \"hi\", 2.4, [\"soumya\", \"jit\"], {\"name\" : \"soumya\", \"full_name\" : \"soumyajit\"}]\n",
    "\n",
    "print(list[3])"
   ]
  },
  {
   "cell_type": "code",
   "execution_count": 9,
   "id": "2cc46f41",
   "metadata": {},
   "outputs": [
    {
     "name": "stdout",
     "output_type": "stream",
     "text": [
      "1\n",
      "2.4\n",
      "{'name': 'soumya', 'full_name': 'soumyajit'}\n"
     ]
    }
   ],
   "source": [
    "list = [ 1, \"hi\", 2.4, [\"soumya\", \"jit\"], {\"name\" : \"soumya\", \"full_name\" : \"soumyajit\"}]\n",
    "for i in range(0, len(list),2):\n",
    "    print(list[i])"
   ]
  },
  {
   "cell_type": "code",
   "execution_count": 10,
   "id": "8f4051ef",
   "metadata": {},
   "outputs": [
    {
     "name": "stdout",
     "output_type": "stream",
     "text": [
      "0\n",
      "1\n",
      "2\n"
     ]
    }
   ],
   "source": [
    "# While Loops in Python \n",
    "i = 0\n",
    "while (i < 3):\n",
    "    print(i)\n",
    "    i = i+1"
   ]
  },
  {
   "cell_type": "code",
   "execution_count": 16,
   "id": "d8024b45",
   "metadata": {},
   "outputs": [
    {
     "name": "stdout",
     "output_type": "stream",
     "text": [
      "printing done\n"
     ]
    }
   ],
   "source": [
    "count = 20\n",
    "while count < 10 :\n",
    "    print (count)\n",
    "    count = count + 1\n",
    "else:\n",
    "    print(\"printing done\")"
   ]
  },
  {
   "cell_type": "code",
   "execution_count": 21,
   "id": "ef04845e",
   "metadata": {},
   "outputs": [
    {
     "name": "stdout",
     "output_type": "stream",
     "text": [
      "checking for break\n",
      "0\n",
      "1\n",
      "2\n",
      "3\n",
      "4\n",
      "5\n",
      "checking for continue\n",
      "0\n",
      "2\n",
      "3\n",
      "4\n"
     ]
    }
   ],
   "source": [
    "# break and continue in Python\n",
    "print(\"checking for break\")\n",
    "for i in range(10):\n",
    "    print(i)\n",
    "    if i == 5:\n",
    "        break\n",
    "print(\"checking for continue\")\n",
    "for j in range(5):\n",
    "    if (j == 1):\n",
    "        continue\n",
    "    print(j)"
   ]
  },
  {
   "cell_type": "code",
   "execution_count": null,
   "id": "b5b041f1",
   "metadata": {},
   "outputs": [],
   "source": [
    "# there is no exixtence of do while lop in python  lets try to \n",
    "# make do while loop by our own\n",
    "i = 0\n",
    "while True:\n",
    "    print(i)\n",
    "    i = i+1\n",
    "    if i % 10 == 0 :\n",
    "        break"
   ]
  },
  {
   "cell_type": "code",
   "execution_count": 8,
   "id": "366bf4e3",
   "metadata": {},
   "outputs": [
    {
     "name": "stdout",
     "output_type": "stream",
     "text": [
      "enter the candidate age : 23\n",
      "You can vote now\n"
     ]
    },
    {
     "ename": "NameError",
     "evalue": "name 'age' is not defined",
     "output_type": "error",
     "traceback": [
      "\u001b[1;31m---------------------------------------------------------------------------\u001b[0m",
      "\u001b[1;31mNameError\u001b[0m                                 Traceback (most recent call last)",
      "\u001b[1;32m~\\AppData\\Local\\Temp\\ipykernel_3616\\2177907809.py\u001b[0m in \u001b[0;36m<module>\u001b[1;34m\u001b[0m\n\u001b[0;32m      9\u001b[0m     \u001b[1;32mpass\u001b[0m\u001b[1;33m\u001b[0m\u001b[1;33m\u001b[0m\u001b[0m\n\u001b[0;32m     10\u001b[0m \u001b[0mcheckVoter\u001b[0m\u001b[1;33m(\u001b[0m\u001b[0mwriteAge\u001b[0m\u001b[1;33m)\u001b[0m\u001b[1;33m\u001b[0m\u001b[1;33m\u001b[0m\u001b[0m\n\u001b[1;32m---> 11\u001b[1;33m \u001b[0mcheckEducation\u001b[0m\u001b[1;33m(\u001b[0m\u001b[0mage\u001b[0m\u001b[1;33m)\u001b[0m\u001b[1;33m\u001b[0m\u001b[1;33m\u001b[0m\u001b[0m\n\u001b[0m",
      "\u001b[1;31mNameError\u001b[0m: name 'age' is not defined"
     ]
    }
   ],
   "source": [
    "# Functions in Python\n",
    "def checkVoter(age):\n",
    "    if age >= 18 :\n",
    "        print(\"You can vote now\")\n",
    "    else:\n",
    "        print(\"you can't vote now\")\n",
    "writeAge = int(input(\"enter the candidate age : \"))\n",
    "def checkEducation(age):\n",
    "    pass\n",
    "checkVoter(writeAge)\n",
    "checkEducation(age)"
   ]
  },
  {
   "cell_type": "code",
   "execution_count": 9,
   "id": "83abcfe0",
   "metadata": {},
   "outputs": [
    {
     "name": "stdout",
     "output_type": "stream",
     "text": [
      "2\n",
      "{12, 23}\n",
      "Anuj\n"
     ]
    }
   ],
   "source": [
    "# Function Arguments in Python\n",
    "def function_argument_passing_as_tuple(*numbers):\n",
    "    for i in numbers:\n",
    "        print(i)\n",
    "function_argument_passing_as_tuple(2,{12,23}, \"Anuj\")"
   ]
  },
  {
   "cell_type": "code",
   "execution_count": 20,
   "id": "498885dc",
   "metadata": {},
   "outputs": [
    {
     "name": "stdout",
     "output_type": "stream",
     "text": [
      "vvhvgv kms Anuj\n"
     ]
    }
   ],
   "source": [
    "def function_argument_dictionary(**numbers):\n",
    "    print(numbers[\"numxax\"] ,numbers[\"number_list\"], numbers[\"name\"] )\n",
    "function_argument_dictionary(numxax = \"vvhvgv\",number_list=\"kms\", name =\"Anuj\")"
   ]
  },
  {
   "cell_type": "code",
   "execution_count": 3,
   "id": "0971c976",
   "metadata": {},
   "outputs": [
    {
     "name": "stdout",
     "output_type": "stream",
     "text": [
      "[3, 5, 6]\n",
      "<class 'list'>\n",
      "3\n"
     ]
    }
   ],
   "source": [
    "# Introduction to Lists in Python \n",
    "marks = [3,5,6]\n",
    "print (marks)\n",
    "print(type(marks))\n",
    "print(marks[0])"
   ]
  },
  {
   "cell_type": "code",
   "execution_count": 13,
   "id": "f751a0a4",
   "metadata": {},
   "outputs": [
    {
     "name": "stdout",
     "output_type": "stream",
     "text": [
      "[3, 5, 6, 'harry', True]\n",
      "<class 'list'>\n",
      "3\n",
      "5\n",
      "6\n",
      "harry\n",
      "True\n",
      "6\n",
      "yes\n"
     ]
    }
   ],
   "source": [
    "marks = [3,5,6,\"harry\", True]\n",
    "print (marks)\n",
    "print(type(marks))\n",
    "print(marks[0])\n",
    "print(marks[1])\n",
    "print(marks[2])\n",
    "print(marks[3])\n",
    "print(marks[4])\n",
    "print(marks[-3])\n",
    "if 5 in marks:\n",
    "    print(\"yes\")\n",
    "else:\n",
    "    print(\"no\")"
   ]
  },
  {
   "cell_type": "code",
   "execution_count": 14,
   "id": "3cb4aaef",
   "metadata": {},
   "outputs": [
    {
     "name": "stdout",
     "output_type": "stream",
     "text": [
      "yes\n"
     ]
    }
   ],
   "source": [
    "if \"sou\" in \"soumya\":\n",
    "    print(\"yes\")"
   ]
  },
  {
   "cell_type": "code",
   "execution_count": 40,
   "id": "21e12e7f",
   "metadata": {},
   "outputs": [
    {
     "name": "stdout",
     "output_type": "stream",
     "text": [
      "3 5 6 harry True \n",
      "\n",
      "[3, 5, 6, 'harry', True]\n",
      "[3, 5, 6, 'harry', True]\n",
      "[6, 'harry', True]\n",
      "[5, 6, 'harry']\n",
      "[5, 'harry']\n"
     ]
    }
   ],
   "source": [
    "marks = [3,5,6,\"harry\", True]\n",
    "for i in marks:\n",
    "    print(i, end = \" \")\n",
    "print(\"\\n\")\n",
    "print(marks)\n",
    "print(marks[:])\n",
    "print(marks[2:])\n",
    "print(marks[1:-1])#1:4\n",
    "print(marks[1:4:2])"
   ]
  },
  {
   "cell_type": "code",
   "execution_count": 44,
   "id": "887fb14d",
   "metadata": {},
   "outputs": [
    {
     "name": "stdout",
     "output_type": "stream",
     "text": [
      "[0, 1, 2, 3]\n",
      "[0, 1, 4, 9]\n",
      "[0, 2, 4, 6, 8]\n"
     ]
    }
   ],
   "source": [
    "lst1 = [i for i in range(4)]\n",
    "print(lst1)\n",
    "lst2 = [i*i for i in range(4)]\n",
    "print(lst2)\n",
    "lst3 = [i for i in range(10) if i%2 ==0]\n",
    "print(lst3)"
   ]
  },
  {
   "cell_type": "code",
   "execution_count": 57,
   "id": "f67ea40f",
   "metadata": {},
   "outputs": [
    {
     "name": "stdout",
     "output_type": "stream",
     "text": [
      "[13, 2, 24, 6, 2, 2]\n",
      "[13, 2, 24, 6, 2, 2, 7]\n",
      "[2, 2, 2, 6, 7, 13, 24]\n",
      "[24, 13, 7, 6, 2, 2, 2]\n",
      "3\n",
      "3\n",
      "[24, 13, 7, 6, 2, 2, 2]\n",
      "[24, 7, 7, 6, 2, 2, 2]\n"
     ]
    }
   ],
   "source": [
    "l = [13,2,24,6,2,2]\n",
    "print(l)\n",
    "l.append(7)\n",
    "print(l)\n",
    "l.sort()\n",
    "print(l)\n",
    "l.sort(reverse = True)\n",
    "print(l)\n",
    "print(l.index(6))\n",
    "print(l.count(2))\n",
    "m = l.copy()\n",
    "m[1] = 7\n",
    "print(l)\n",
    "print(m)"
   ]
  },
  {
   "cell_type": "code",
   "execution_count": 58,
   "id": "86d5d596",
   "metadata": {},
   "outputs": [
    {
     "name": "stdout",
     "output_type": "stream",
     "text": [
      "[13, 899, 2, 24, 6, 2, 2]\n"
     ]
    }
   ],
   "source": [
    "l = [13,2,24,6,2,2]\n",
    "l.insert(1,899)\n",
    "print(l)"
   ]
  },
  {
   "cell_type": "code",
   "execution_count": 59,
   "id": "e9340085",
   "metadata": {},
   "outputs": [
    {
     "name": "stdout",
     "output_type": "stream",
     "text": [
      "[900, 1000, 1100, 24, 7, 7, 6, 2, 2, 2]\n"
     ]
    }
   ],
   "source": [
    "l = [900,1000,1100]\n",
    "l.extend(m)\n",
    "print(l)"
   ]
  },
  {
   "cell_type": "code",
   "execution_count": 60,
   "id": "7fb75545",
   "metadata": {},
   "outputs": [
    {
     "name": "stdout",
     "output_type": "stream",
     "text": [
      "[900, 1000, 1100, 24, 7, 7, 6, 2, 2, 2, 900, 1000, 1100]\n"
     ]
    }
   ],
   "source": [
    "m = [900,1000,1100]\n",
    "k = l+m\n",
    "print(k)"
   ]
  },
  {
   "cell_type": "code",
   "execution_count": 66,
   "id": "565f28ef",
   "metadata": {},
   "outputs": [
    {
     "name": "stdout",
     "output_type": "stream",
     "text": [
      "<class 'tuple'>\n",
      "<class 'tuple'> (1, 5, 6)\n",
      "<class 'int'> 1\n",
      "<class 'tuple'> (1,)\n"
     ]
    }
   ],
   "source": [
    "# Tuples in Python\n",
    "\n",
    "tup1 = (1,5,6)\n",
    "print(type(tup1))\n",
    "print(type(tup1), tup1)\n",
    "tup2 = (1)\n",
    "print(type(tup2), tup2) #in this case we will se the output as integer type\n",
    "#for solving this problem and considering tup2 with singel element as tuple\n",
    "# we need to use , ater the element\n",
    "tup3 = (1,)\n",
    "print(type(tup3), tup3)"
   ]
  },
  {
   "cell_type": "code",
   "execution_count": 67,
   "id": "9bc5060c",
   "metadata": {},
   "outputs": [
    {
     "ename": "TypeError",
     "evalue": "'tuple' object does not support item assignment",
     "output_type": "error",
     "traceback": [
      "\u001b[1;31m---------------------------------------------------------------------------\u001b[0m",
      "\u001b[1;31mTypeError\u001b[0m                                 Traceback (most recent call last)",
      "\u001b[1;32m~\\AppData\\Local\\Temp\\ipykernel_14640\\658926865.py\u001b[0m in \u001b[0;36m<module>\u001b[1;34m\u001b[0m\n\u001b[0;32m      1\u001b[0m \u001b[0mtup4\u001b[0m \u001b[1;33m=\u001b[0m \u001b[1;33m(\u001b[0m\u001b[1;36m1\u001b[0m\u001b[1;33m,\u001b[0m\u001b[1;36m5\u001b[0m\u001b[1;33m,\u001b[0m\u001b[1;36m6\u001b[0m\u001b[1;33m)\u001b[0m\u001b[1;33m\u001b[0m\u001b[1;33m\u001b[0m\u001b[0m\n\u001b[1;32m----> 2\u001b[1;33m \u001b[0mtup4\u001b[0m\u001b[1;33m[\u001b[0m\u001b[1;36m1\u001b[0m\u001b[1;33m]\u001b[0m \u001b[1;33m=\u001b[0m \u001b[1;36m45\u001b[0m\u001b[1;33m\u001b[0m\u001b[1;33m\u001b[0m\u001b[0m\n\u001b[0m",
      "\u001b[1;31mTypeError\u001b[0m: 'tuple' object does not support item assignment"
     ]
    }
   ],
   "source": [
    "tup4 = (1,5,6)\n",
    "tup4[1] = 45"
   ]
  },
  {
   "cell_type": "code",
   "execution_count": 74,
   "id": "c6018709",
   "metadata": {},
   "outputs": [
    {
     "name": "stdout",
     "output_type": "stream",
     "text": [
      "<class 'tuple'> (1, 2, 76, 342, 32, 'green', True)\n",
      "1\n",
      "2\n",
      "76\n",
      "342\n",
      "32\n",
      "green\n",
      "True\n"
     ]
    },
    {
     "ename": "IndexError",
     "evalue": "tuple index out of range",
     "output_type": "error",
     "traceback": [
      "\u001b[1;31m---------------------------------------------------------------------------\u001b[0m",
      "\u001b[1;31mIndexError\u001b[0m                                Traceback (most recent call last)",
      "\u001b[1;32m~\\AppData\\Local\\Temp\\ipykernel_14640\\3145389721.py\u001b[0m in \u001b[0;36m<module>\u001b[1;34m\u001b[0m\n\u001b[0;32m      8\u001b[0m \u001b[0mprint\u001b[0m\u001b[1;33m(\u001b[0m\u001b[0mtup\u001b[0m\u001b[1;33m[\u001b[0m\u001b[1;36m5\u001b[0m\u001b[1;33m]\u001b[0m\u001b[1;33m)\u001b[0m\u001b[1;33m\u001b[0m\u001b[1;33m\u001b[0m\u001b[0m\n\u001b[0;32m      9\u001b[0m \u001b[0mprint\u001b[0m\u001b[1;33m(\u001b[0m\u001b[0mtup\u001b[0m\u001b[1;33m[\u001b[0m\u001b[1;36m6\u001b[0m\u001b[1;33m]\u001b[0m\u001b[1;33m)\u001b[0m\u001b[1;33m\u001b[0m\u001b[1;33m\u001b[0m\u001b[0m\n\u001b[1;32m---> 10\u001b[1;33m \u001b[0mprint\u001b[0m\u001b[1;33m(\u001b[0m\u001b[0mtup\u001b[0m\u001b[1;33m[\u001b[0m\u001b[1;36m7\u001b[0m\u001b[1;33m]\u001b[0m\u001b[1;33m)\u001b[0m\u001b[1;33m\u001b[0m\u001b[1;33m\u001b[0m\u001b[0m\n\u001b[0m",
      "\u001b[1;31mIndexError\u001b[0m: tuple index out of range"
     ]
    }
   ],
   "source": [
    "tup = (1,2,76,342,32,\"green\",True)\n",
    "print(type(tup), tup)\n",
    "print(tup[0])\n",
    "print(tup[1])\n",
    "print(tup[2])\n",
    "print(tup[3])\n",
    "print(tup[4])\n",
    "print(tup[5])\n",
    "print(tup[6])\n",
    "print(tup[7])"
   ]
  },
  {
   "cell_type": "code",
   "execution_count": 75,
   "id": "07347500",
   "metadata": {},
   "outputs": [
    {
     "name": "stdout",
     "output_type": "stream",
     "text": [
      "342 exist\n"
     ]
    }
   ],
   "source": [
    "tup = (1,2,76,342,32,\"green\",True)\n",
    "if 342 in tup:\n",
    "    print(\"342 exist\")"
   ]
  },
  {
   "cell_type": "code",
   "execution_count": 79,
   "id": "661f71b8",
   "metadata": {},
   "outputs": [
    {
     "name": "stdout",
     "output_type": "stream",
     "text": [
      "(2, 342)\n",
      "(2, 76, 342)\n",
      "(1, 2, 76, 342, 32, 'green', True)\n"
     ]
    }
   ],
   "source": [
    "tup = (1,2,76,342,32,\"green\",True)\n",
    "print(tup[1:5:2])\n",
    "tup2 = tup[1:4]\n",
    "print(tup2)\n",
    "print(tup)"
   ]
  },
  {
   "cell_type": "code",
   "execution_count": 8,
   "id": "238af76c",
   "metadata": {},
   "outputs": [
    {
     "name": "stdout",
     "output_type": "stream",
     "text": [
      "countries :  ('Spain', 'Italy', 'India', 'England', 'Germany')\n",
      "temp :  ['Spain', 'Italy', 'India', 'England', 'Germany']\n",
      "After append, temp :  ['Spain', 'Italy', 'India', 'England', 'Germany', 'Russia']\n",
      "Now after changineg some element in temp , temp :  ['Spain', 'Italy', 'Finland', 'England', 'Germany', 'Russia']\n",
      "now countries :  ('Spain', 'Italy', 'Finland', 'England', 'Germany', 'Russia')\n"
     ]
    }
   ],
   "source": [
    "# Operations on Tuples in Python\n",
    "countries = (\"Spain\", \"Italy\", \"India\", \"England\", \"Germany\")\n",
    "temp = list(countries)\n",
    "print(\"countries : \", countries)\n",
    "print(\"temp : \",temp)\n",
    "temp.append(\"Russia\")\n",
    "print(\"After append, temp : \",temp)\n",
    "temp[2] = \"Finland\"\n",
    "print(\"Now after changineg some element in temp , temp : \",temp)\n",
    "countries = tuple(temp)\n",
    "print(\"now countries : \", countries)"
   ]
  },
  {
   "cell_type": "code",
   "execution_count": 10,
   "id": "aa58626a",
   "metadata": {},
   "outputs": [
    {
     "name": "stdout",
     "output_type": "stream",
     "text": [
      "(1, 2, 3, 4, 5, 6, 7, 8)\n"
     ]
    }
   ],
   "source": [
    "tuple1 = (1,2,3,4)\n",
    "tuple2 = (5,6,7,8)\n",
    "tuple3 = tuple1 + tuple2\n",
    "print(tuple3)"
   ]
  },
  {
   "cell_type": "code",
   "execution_count": 12,
   "id": "b5feefe9",
   "metadata": {},
   "outputs": [
    {
     "name": "stdout",
     "output_type": "stream",
     "text": [
      "2\n"
     ]
    }
   ],
   "source": [
    "tuple1 = (1, 2, 3, 4, 5, 6, 7,1 ,2 ,3 ,2 , 4 ,2 )\n",
    "print(tuple1.count(3))"
   ]
  },
  {
   "cell_type": "code",
   "execution_count": 13,
   "id": "cd38d98d",
   "metadata": {},
   "outputs": [
    {
     "name": "stdout",
     "output_type": "stream",
     "text": [
      "2\n"
     ]
    }
   ],
   "source": [
    "tuple1 = (1, 2, 3, 4, 5, 6, 7,1 ,2 ,3 ,2 , 4 ,2 )\n",
    "print(tuple1.index(3))"
   ]
  },
  {
   "cell_type": "code",
   "execution_count": 16,
   "id": "83427d0c",
   "metadata": {},
   "outputs": [
    {
     "name": "stdout",
     "output_type": "stream",
     "text": [
      "9\n"
     ]
    }
   ],
   "source": [
    "tuple1 = (1, 2, 3, 4, 5, 6, 7,1 ,2 ,3 ,2 , 4 ,2 )\n",
    "print(tuple1.index(3,4,10 ))"
   ]
  },
  {
   "cell_type": "code",
   "execution_count": 2,
   "id": "43e5dd0b",
   "metadata": {},
   "outputs": [
    {
     "name": "stdout",
     "output_type": "stream",
     "text": [
      "0\n",
      "1\n",
      "2\n",
      "3\n",
      "4\n",
      "5\n",
      "6\n",
      "7\n",
      "8\n",
      "9\n"
     ]
    }
   ],
   "source": [
    "for list in range(10):\n",
    "    print(list)"
   ]
  },
  {
   "cell_type": "code",
   "execution_count": 2,
   "id": "01588da0",
   "metadata": {},
   "outputs": [
    {
     "ename": "SyntaxError",
     "evalue": "invalid syntax (1368445870.py, line 33)",
     "output_type": "error",
     "traceback": [
      "\u001b[1;36m  File \u001b[1;32m\"C:\\Users\\Soumyajit\\AppData\\Local\\Temp\\ipykernel_2760\\1368445870.py\"\u001b[1;36m, line \u001b[1;32m33\u001b[0m\n\u001b[1;33m    match(no):\u001b[0m\n\u001b[1;37m              ^\u001b[0m\n\u001b[1;31mSyntaxError\u001b[0m\u001b[1;31m:\u001b[0m invalid syntax\n"
     ]
    }
   ],
   "source": [
    "# Kaun Banega Carorepati(KBC)\n",
    "def doQuestion(highest_lavel):\n",
    "    lavel = 0\n",
    "    rightAnswer = True\n",
    "    listOfQuestions = [\"Who is known as the 'Father of the Nation' in India?\",\n",
    "                       \"Which planet is known as the Red Planet'?\",\n",
    "                      \"Who is the author of the Harry Potter book series?\",\n",
    "                      \"Which country is famous for the Eiffel Tower?\",\n",
    "                      \"Who painted the Mona Lisa?\",\n",
    "                       \"Which sport is played at Wimbledon?\",\n",
    "                       \"What is the chemical symbol for gold?\",\n",
    "                      \"Who wrote the play 'Romeo and Juliet'?\",\n",
    "                      \"Which planet is the largest in our solar system?\",\n",
    "                       \"What is the national animal of India?\"\n",
    "                      ]\n",
    "    listOfAnswer = [\"Mahatma Gandhi\",\"Mars\",\"J.K. Rowling\",\"France\",\n",
    "                    \"Leonardo da Vinci\",\"Tennis\", \"Au\", \"William Shakespeare\",\n",
    "                   \"Jupiter\", \"Bengal Tiger\"]\n",
    "    for i in range(highest_lavel):\n",
    "        print(listOfQuestions[i])\n",
    "        answer = input(\"write your answer : \")\n",
    "        if answer == listOfAnswer[i] :\n",
    "            lavel = lavel + 1\n",
    "        else:\n",
    "            rightAnswer = False\n",
    "            break\n",
    "    if rightAnswer == True:\n",
    "        print(\"You are now a crorepati !!\")\n",
    "    else: \n",
    "        print(\"You lost the game !!\")\n",
    "def questions(question_number):\n",
    "    no = question_number\n",
    "    match(no):\n",
    "        case 4:\n",
    "                doQuestion(no)\n",
    "        case 7:\n",
    "                doQuestion(no)\n",
    "        case 10:\n",
    "                doQuestion(no)\n",
    "        case _:\n",
    "            print(\"You are not eligible to play KBC\")\n",
    "            \n",
    "numerOfQuestions = 0\n",
    "play_for_amount = int(input(\"enter for now much amount you are playing : \"))\n",
    "if play_for_amount > 5000000 and play_for_amount <= 10000000:\n",
    "    questions(4)\n",
    "elif play_for_amount > 10000000 and play_for_amount <= 50000000:\n",
    "    questions(7)\n",
    "elif play_for_amoun > 50000000 :\n",
    "    questions(10)\n",
    "else : \n",
    "    print(\"keep suporting KBC\")\n",
    "    \n",
    "    "
   ]
  },
  {
   "cell_type": "code",
   "execution_count": 7,
   "id": "a83d6141",
   "metadata": {},
   "outputs": [
    {
     "name": "stdout",
     "output_type": "stream",
     "text": [
      "Hey my name is Soumya and I am from India\n"
     ]
    }
   ],
   "source": [
    "# f-strings in Python\n",
    "# letter = (\"Hey my name is {1} and I am from {0}\")\n",
    "# print(letter.format(country, name)) #OLD METHOD\n",
    "country = \"India\"\n",
    "name = \"Soumya\"\n",
    "print(f\"Hey my name is {name} and I am from {country}\")"
   ]
  },
  {
   "cell_type": "code",
   "execution_count": 10,
   "id": "2c81f438",
   "metadata": {},
   "outputs": [
    {
     "name": "stdout",
     "output_type": "stream",
     "text": [
      "For only  49.10 dollars!\n"
     ]
    }
   ],
   "source": [
    "txt = \"For only {price: .2f} dollars!\"\n",
    "print(txt.format(price = 49.09999))"
   ]
  },
  {
   "cell_type": "code",
   "execution_count": 11,
   "id": "c2465c3e",
   "metadata": {},
   "outputs": [
    {
     "name": "stdout",
     "output_type": "stream",
     "text": [
      "For only  49.10 dollars!\n"
     ]
    }
   ],
   "source": [
    "price = 49.09999\n",
    "txt = f\"For only {price: .2f} dollars!\"\n",
    "print(txt)"
   ]
  },
  {
   "cell_type": "code",
   "execution_count": 13,
   "id": "e83c5892",
   "metadata": {},
   "outputs": [
    {
     "name": "stdout",
     "output_type": "stream",
     "text": [
      "60\n",
      "<class 'str'>\n"
     ]
    }
   ],
   "source": [
    "print(f\"{2*30}\")\n",
    "print(type(f\"{2*30}\"))"
   ]
  },
  {
   "cell_type": "code",
   "execution_count": 2,
   "id": "5632abea",
   "metadata": {},
   "outputs": [
    {
     "name": "stdout",
     "output_type": "stream",
     "text": [
      "25\n",
      "Takes is a number n, return the square of n\n"
     ]
    }
   ],
   "source": [
    "# Docstrings in Python\n",
    "def square(n):\n",
    "    '''Takes is a number n, return the square of n'''#doc string comes just after the function\n",
    "    print(n**2)\n",
    "square(5)\n",
    "print(square.__doc__)"
   ]
  },
  {
   "cell_type": "code",
   "execution_count": 3,
   "id": "8ac9a106",
   "metadata": {},
   "outputs": [
    {
     "name": "stdout",
     "output_type": "stream",
     "text": [
      "5\n",
      "25\n",
      "None\n"
     ]
    }
   ],
   "source": [
    "def square(n):\n",
    "    print(n)\n",
    "    '''Takes is a number n, return the square of n'''#doc string comes just after the function\n",
    "    print(n**2)\n",
    "square(5)\n",
    "print(square.__doc__)"
   ]
  },
  {
   "cell_type": "code",
   "execution_count": 4,
   "id": "6b9e7c91",
   "metadata": {},
   "outputs": [],
   "source": [
    " #PEP 8 ----> python enhancement proposal"
   ]
  },
  {
   "cell_type": "code",
   "execution_count": 5,
   "id": "c941f009",
   "metadata": {},
   "outputs": [
    {
     "name": "stdout",
     "output_type": "stream",
     "text": [
      "120\n"
     ]
    }
   ],
   "source": [
    "# Recursion in Python\n",
    "#factorial\n",
    "def fac(n):\n",
    "    if (n == 1 or n==0):\n",
    "        return 1\n",
    "    return n * fac(n-1)\n",
    "print(fac(5))"
   ]
  },
  {
   "cell_type": "code",
   "execution_count": 9,
   "id": "677a6cf6",
   "metadata": {},
   "outputs": [
    {
     "name": "stdout",
     "output_type": "stream",
     "text": [
      "Enter number of terms:5\n",
      "Fibonacci sequence:\n",
      "0\n",
      "1\n",
      "1\n",
      "2\n",
      "3\n"
     ]
    }
   ],
   "source": [
    "#fibonachi\n",
    "def fibonacci(n):\n",
    "    if(n <= 1):\n",
    "        return n\n",
    "    else:\n",
    "        return(fibonacci(n-1) + fibonacci(n-2))\n",
    "n = int(input(\"Enter number of terms:\"))\n",
    "print(\"Fibonacci sequence:\")\n",
    "for i in range(n):\n",
    "    print(fibonacci(i))"
   ]
  },
  {
   "cell_type": "code",
   "execution_count": 8,
   "id": "d1a78687",
   "metadata": {},
   "outputs": [
    {
     "name": "stdout",
     "output_type": "stream",
     "text": [
      "{2, 4, 6, 7}\n",
      "<class 'dict'>\n",
      "<class 'set'>\n"
     ]
    }
   ],
   "source": [
    "# Sets in Python\n",
    "s ={7,2,4,2,6}\n",
    "print(s)\n",
    "# s.append(65) this can not be done because set are emutable\n",
    "#set done maintain order and all values of set are unique\n",
    "name = {}\n",
    "print(type(name)) #this is type dictionary\n",
    "name = set()\n",
    "print(type(name))"
   ]
  },
  {
   "cell_type": "code",
   "execution_count": 10,
   "id": "5008eafb",
   "metadata": {},
   "outputs": [
    {
     "name": "stdout",
     "output_type": "stream",
     "text": [
      "2\n",
      "4\n",
      "6\n",
      "7\n"
     ]
    }
   ],
   "source": [
    "for i in s:\n",
    "    print(i)"
   ]
  },
  {
   "cell_type": "code",
   "execution_count": 6,
   "id": "55cae971",
   "metadata": {},
   "outputs": [
    {
     "name": "stdout",
     "output_type": "stream",
     "text": [
      "{1, 2, 3, 5, 6, 7}\n",
      "{1, 2, 5, 6} {3, 6, 7}\n",
      "{1, 2, 3, 5, 6, 7}\n"
     ]
    }
   ],
   "source": [
    "s1 = {1,2,5,6}\n",
    "s2 = {3,6,7}\n",
    "print(s1.union(s2))\n",
    "print(s1,s2)\n",
    "s1.update(s2)\n",
    "print(s1)"
   ]
  },
  {
   "cell_type": "code",
   "execution_count": 9,
   "id": "1666dc26",
   "metadata": {},
   "outputs": [
    {
     "name": "stdout",
     "output_type": "stream",
     "text": [
      "{1, 2, 3, 5, 7}\n",
      "{1, 2, 5}\n"
     ]
    }
   ],
   "source": [
    "s1 = {1,2,5,6}\n",
    "s2 = {3,6,7}\n",
    "s3 = s1.symmetric_difference(s2)\n",
    "print(s3)\n",
    "s4 = s1.difference(s2)\n",
    "print(s4)"
   ]
  },
  {
   "cell_type": "code",
   "execution_count": 1,
   "id": "79f6ba7c",
   "metadata": {},
   "outputs": [
    {
     "name": "stdout",
     "output_type": "stream",
     "text": [
      "Human being\n",
      "hi\n"
     ]
    }
   ],
   "source": [
    "# Dictionaries in Python\n",
    "dic = {\n",
    "    \"Harry\": \"Human being\",\n",
    "    \"Spoon\": \"Object\",\n",
    "    23:\"hi\"\n",
    "}\n",
    "print(dic[\"Harry\"])\n",
    "print(dic[23])"
   ]
  },
  {
   "cell_type": "code",
   "execution_count": 2,
   "id": "a4e31e09",
   "metadata": {},
   "outputs": [
    {
     "name": "stdout",
     "output_type": "stream",
     "text": [
      "dict_keys(['Harry', 'Spoon', 23])\n"
     ]
    }
   ],
   "source": [
    "print(dic.keys())"
   ]
  },
  {
   "cell_type": "code",
   "execution_count": 5,
   "id": "19bb4913",
   "metadata": {},
   "outputs": [
    {
     "name": "stdout",
     "output_type": "stream",
     "text": [
      "Human being Harry\n",
      "Object Spoon\n",
      "hi 23\n"
     ]
    }
   ],
   "source": [
    "for key in dic.keys():\n",
    "    print(dic[key] , key)"
   ]
  },
  {
   "cell_type": "code",
   "execution_count": 6,
   "id": "bfcf62bc",
   "metadata": {},
   "outputs": [
    {
     "name": "stdout",
     "output_type": "stream",
     "text": [
      "dict_values(['Human being', 'Object', 'hi'])\n"
     ]
    }
   ],
   "source": [
    "print(dic.values())"
   ]
  },
  {
   "cell_type": "code",
   "execution_count": 8,
   "id": "abe8a835",
   "metadata": {},
   "outputs": [
    {
     "name": "stdout",
     "output_type": "stream",
     "text": [
      "Harry Human being\n",
      "Spoon Object\n",
      "23 hi\n"
     ]
    }
   ],
   "source": [
    "for key in dic.keys():\n",
    "    print(key, dic[key])"
   ]
  },
  {
   "cell_type": "code",
   "execution_count": 10,
   "id": "9a8bae5b",
   "metadata": {},
   "outputs": [
    {
     "name": "stdout",
     "output_type": "stream",
     "text": [
      "dict_items([('Harry', 'Human being'), ('Spoon', 'Object'), (23, 'hi')])\n"
     ]
    }
   ],
   "source": [
    "print(dic.items())"
   ]
  },
  {
   "cell_type": "code",
   "execution_count": 13,
   "id": "d1d05f7c",
   "metadata": {},
   "outputs": [
    {
     "name": "stdout",
     "output_type": "stream",
     "text": [
      "The value corresponding to the key Harry is Human being\n",
      "The value corresponding to the key Spoon is Object\n",
      "The value corresponding to the key 23 is hi\n"
     ]
    }
   ],
   "source": [
    "for key, values in dic.items():\n",
    "    print(f\"The value corresponding to the key {key} is {values}\")"
   ]
  },
  {
   "cell_type": "code",
   "execution_count": 16,
   "id": "72ad07ec",
   "metadata": {},
   "outputs": [
    {
     "name": "stdout",
     "output_type": "stream",
     "text": [
      "{122: 67, 123: 89, 567: 69, 670: 69, 566: 90}\n",
      "{}\n"
     ]
    }
   ],
   "source": [
    "# Dictionary Methods in Python\n",
    "ep1 = {122 : 45, 123:89, 567:69,670:69}\n",
    "ep2 = {122 : 67, 566 : 90}\n",
    "ep1.update(ep2)\n",
    "print(ep1)\n",
    "ep1.clear()\n",
    "print(ep1)\n"
   ]
  },
  {
   "cell_type": "code",
   "execution_count": 17,
   "id": "87b48e04",
   "metadata": {},
   "outputs": [
    {
     "name": "stdout",
     "output_type": "stream",
     "text": [
      "{}\n"
     ]
    }
   ],
   "source": [
    "empt ={}\n",
    "print(empt)"
   ]
  },
  {
   "cell_type": "code",
   "execution_count": 18,
   "id": "0de9ad4b",
   "metadata": {},
   "outputs": [
    {
     "name": "stdout",
     "output_type": "stream",
     "text": [
      "{123: 89, 567: 69, 670: 69}\n"
     ]
    }
   ],
   "source": [
    "ep1 = {122 : 45, 123:89, 567:69,670:69}\n",
    "ep1.pop(122)\n",
    "print(ep1)"
   ]
  },
  {
   "cell_type": "code",
   "execution_count": 1,
   "id": "d46573ac",
   "metadata": {},
   "outputs": [
    {
     "name": "stdout",
     "output_type": "stream",
     "text": [
      "sorry no i\n"
     ]
    }
   ],
   "source": [
    "# for Loop with else in Python\n",
    "for i in []:\n",
    "    print(i)\n",
    "else:\n",
    "    print(\"sorry no i\")"
   ]
  },
  {
   "cell_type": "code",
   "execution_count": 3,
   "id": "6d72a572",
   "metadata": {},
   "outputs": [
    {
     "name": "stdout",
     "output_type": "stream",
     "text": [
      "0\n",
      "1\n",
      "2\n",
      "3\n",
      "4\n"
     ]
    }
   ],
   "source": [
    "for i in range(6):\n",
    "    print(i)\n",
    "    if i == 4:\n",
    "        break\n",
    "else:\n",
    "    print(\"sorry no i\")"
   ]
  },
  {
   "cell_type": "code",
   "execution_count": 4,
   "id": "09ea63d9",
   "metadata": {},
   "outputs": [
    {
     "name": "stdout",
     "output_type": "stream",
     "text": [
      "0\n",
      "1\n",
      "2\n",
      "3\n",
      "4\n",
      "5\n",
      "6\n",
      "sorry no i\n"
     ]
    }
   ],
   "source": [
    "i = 0\n",
    "while i < 7:\n",
    "    print(i)\n",
    "    i = i+1\n",
    "else:\n",
    "    print(\"sorry no i\")"
   ]
  },
  {
   "cell_type": "code",
   "execution_count": 18,
   "id": "3b2baaf7",
   "metadata": {},
   "outputs": [
    {
     "name": "stdout",
     "output_type": "stream",
     "text": [
      "Enter your name : defef\n",
      "Multiplication table of defef is : \n",
      "invalid literal for int() with base 10: 'defef'\n",
      "Invalid input\n",
      "Some importent lines of code\n",
      "End of program\n"
     ]
    }
   ],
   "source": [
    "# Exception Handling in Python\n",
    "a = input(\"Enter your name : \")\n",
    "print(f\"Multiplication table of {a} is : \")\n",
    "try:\n",
    "    for i in range(1, 11):\n",
    "        print(f\"{int(a)} x {i} = {int(a) * i}\")\n",
    "except Exception as e:\n",
    "    print(e)\n",
    "    print(\"Invalid input\")\n",
    "print(\"Some importent lines of code\")\n",
    "print(\"End of program\")\n"
   ]
  },
  {
   "cell_type": "code",
   "execution_count": 25,
   "id": "55964821",
   "metadata": {},
   "outputs": [
    {
     "name": "stdout",
     "output_type": "stream",
     "text": [
      "Enter an integerdx\n",
      "alive\n"
     ]
    }
   ],
   "source": [
    "try:\n",
    "    num = int(input(\"Enter an integer\"))\n",
    "except ValueError:\n",
    "    pass\n",
    "print(\"alive\")"
   ]
  },
  {
   "cell_type": "code",
   "execution_count": 28,
   "id": "3e3ab7d5",
   "metadata": {},
   "outputs": [
    {
     "name": "stdout",
     "output_type": "stream",
     "text": [
      "<class 'IndexError'>\n"
     ]
    }
   ],
   "source": [
    "try:\n",
    "    a = [2,5]\n",
    "    print(a[3])\n",
    "except IndexError:\n",
    "    print(IndexError)"
   ]
  },
  {
   "cell_type": "code",
   "execution_count": 31,
   "id": "0342b949",
   "metadata": {},
   "outputs": [
    {
     "name": "stdout",
     "output_type": "stream",
     "text": [
      "Enter the index : dsdsd\n",
      "Some error occurred\n",
      "I am always excuted\n"
     ]
    }
   ],
   "source": [
    "# Finally keyword in Python\n",
    "try:\n",
    "    l = [1, 5, 6 ,7]\n",
    "    i = int(input(\"Enter the index : \"))\n",
    "    print(l[i])\n",
    "except:\n",
    "    print(\"Some error occurred\")\n",
    "finally:\n",
    "    print(\"I am always excuted\")"
   ]
  },
  {
   "cell_type": "code",
   "execution_count": 3,
   "id": "f17bb976",
   "metadata": {},
   "outputs": [
    {
     "name": "stdout",
     "output_type": "stream",
     "text": [
      "Enter the index : gff\n",
      "Some error occurred\n",
      "0\n"
     ]
    }
   ],
   "source": [
    "def func1():\n",
    "    try:\n",
    "        l = [1, 5, 6 ,7]\n",
    "        i = int(input(\"Enter the index : \"))\n",
    "        print(l[i])\n",
    "        return 1\n",
    "    except:\n",
    "        print(\"Some error occurred\")\n",
    "        return 0\n",
    "    print(\"I am always excuted\")\n",
    "x = func1()\n",
    "print(x)"
   ]
  },
  {
   "cell_type": "code",
   "execution_count": 6,
   "id": "5bcead16",
   "metadata": {},
   "outputs": [
    {
     "name": "stdout",
     "output_type": "stream",
     "text": [
      "Enter the index : 2\n",
      "6\n",
      "I am always excuted\n",
      "1\n"
     ]
    }
   ],
   "source": [
    "def func1():\n",
    "    try:\n",
    "        l = [1, 5, 6 ,7]\n",
    "        i = int(input(\"Enter the index : \"))\n",
    "        print(l[i])\n",
    "        return 1\n",
    "    except:\n",
    "        print(\"Some error occurred\")\n",
    "        return 0\n",
    "    finally:\n",
    "        print(\"I am always excuted\")\n",
    "x = func1()\n",
    "print(x)"
   ]
  },
  {
   "cell_type": "code",
   "execution_count": 1,
   "id": "fc64ebff",
   "metadata": {},
   "outputs": [
    {
     "name": "stdout",
     "output_type": "stream",
     "text": [
      "Enter any value between 5 and 9 : 67\n"
     ]
    },
    {
     "ename": "ValueError",
     "evalue": "value should be between 5 and 9",
     "output_type": "error",
     "traceback": [
      "\u001b[1;31m---------------------------------------------------------------------------\u001b[0m",
      "\u001b[1;31mValueError\u001b[0m                                Traceback (most recent call last)",
      "\u001b[1;32m~\\AppData\\Local\\Temp\\ipykernel_12384\\1437035561.py\u001b[0m in \u001b[0;36m<module>\u001b[1;34m\u001b[0m\n\u001b[0;32m      2\u001b[0m \u001b[0ma\u001b[0m \u001b[1;33m=\u001b[0m \u001b[0mint\u001b[0m\u001b[1;33m(\u001b[0m\u001b[0minput\u001b[0m\u001b[1;33m(\u001b[0m\u001b[1;34m\"Enter any value between 5 and 9 : \"\u001b[0m\u001b[1;33m)\u001b[0m\u001b[1;33m)\u001b[0m\u001b[1;33m\u001b[0m\u001b[1;33m\u001b[0m\u001b[0m\n\u001b[0;32m      3\u001b[0m \u001b[1;32mif\u001b[0m\u001b[1;33m(\u001b[0m\u001b[0ma\u001b[0m\u001b[1;33m<\u001b[0m\u001b[1;36m5\u001b[0m \u001b[1;32mor\u001b[0m \u001b[0ma\u001b[0m\u001b[1;33m>\u001b[0m\u001b[1;36m9\u001b[0m\u001b[1;33m)\u001b[0m\u001b[1;33m:\u001b[0m\u001b[1;33m\u001b[0m\u001b[1;33m\u001b[0m\u001b[0m\n\u001b[1;32m----> 4\u001b[1;33m     \u001b[1;32mraise\u001b[0m \u001b[0mValueError\u001b[0m\u001b[1;33m(\u001b[0m\u001b[1;34m\"value should be between 5 and 9\"\u001b[0m\u001b[1;33m)\u001b[0m\u001b[1;33m\u001b[0m\u001b[1;33m\u001b[0m\u001b[0m\n\u001b[0m",
      "\u001b[1;31mValueError\u001b[0m: value should be between 5 and 9"
     ]
    }
   ],
   "source": [
    "# Raising custom errors in Python\n",
    "a = int(input(\"Enter any value between 5 and 9 : \"))\n",
    "if(a<5 or a>9):\n",
    "    raise ValueError(\"value should be between 5 and 9\")"
   ]
  },
  {
   "cell_type": "code",
   "execution_count": 10,
   "id": "24271fb7",
   "metadata": {},
   "outputs": [
    {
     "name": "stdout",
     "output_type": "stream",
     "text": [
      "Enter wuit : quit\n"
     ]
    },
    {
     "ename": "ValueError",
     "evalue": "This is not Quit",
     "output_type": "error",
     "traceback": [
      "\u001b[1;31m---------------------------------------------------------------------------\u001b[0m",
      "\u001b[1;31mValueError\u001b[0m                                Traceback (most recent call last)",
      "\u001b[1;32m~\\AppData\\Local\\Temp\\ipykernel_12384\\2325226369.py\u001b[0m in \u001b[0;36m<module>\u001b[1;34m\u001b[0m\n\u001b[0;32m      1\u001b[0m \u001b[0ma\u001b[0m \u001b[1;33m=\u001b[0m \u001b[0minput\u001b[0m\u001b[1;33m(\u001b[0m\u001b[1;34m\"Enter wuit : \"\u001b[0m\u001b[1;33m)\u001b[0m\u001b[1;33m\u001b[0m\u001b[1;33m\u001b[0m\u001b[0m\n\u001b[0;32m      2\u001b[0m \u001b[1;32mif\u001b[0m\u001b[1;33m(\u001b[0m\u001b[1;33m(\u001b[0m\u001b[0ma\u001b[0m \u001b[1;33m!=\u001b[0m \u001b[1;34m\"quit\"\u001b[0m\u001b[1;33m)\u001b[0m \u001b[1;32mor\u001b[0m \u001b[1;33m(\u001b[0m\u001b[0ma\u001b[0m \u001b[1;33m!=\u001b[0m \u001b[1;34m\"Quit\"\u001b[0m\u001b[1;33m)\u001b[0m\u001b[1;33m)\u001b[0m\u001b[1;33m:\u001b[0m\u001b[1;33m\u001b[0m\u001b[1;33m\u001b[0m\u001b[0m\n\u001b[1;32m----> 3\u001b[1;33m     \u001b[1;32mraise\u001b[0m \u001b[0mValueError\u001b[0m\u001b[1;33m(\u001b[0m\u001b[1;34m\"This is not Quit\"\u001b[0m\u001b[1;33m)\u001b[0m\u001b[1;33m\u001b[0m\u001b[1;33m\u001b[0m\u001b[0m\n\u001b[0m",
      "\u001b[1;31mValueError\u001b[0m: This is not Quit"
     ]
    }
   ],
   "source": [
    "a = input(\"Enter wuit : \")\n",
    "if((a != \"quit\") or (a != \"Quit\")):\n",
    "    raise ValueError(\"This is not Quit\")"
   ]
  },
  {
   "cell_type": "code",
   "execution_count": 1,
   "id": "13f4467f",
   "metadata": {},
   "outputs": [
    {
     "name": "stdout",
     "output_type": "stream",
     "text": [
      "write the actual data : aasa asaaxw\n",
      "Secrete code is :  asa asaaxwah2x\n"
     ]
    }
   ],
   "source": [
    "import random\n",
    "def SecretCodeLanguageGenerator(data):\n",
    "    #list convertion    \n",
    "    li = []\n",
    "    d = data\n",
    "    if(len(d) <= 2):\n",
    "        li = \"\".join(reversed(d)) #reverse\n",
    "        print(\"Secrete code is : \",li)\n",
    "    #end of list convertion\n",
    "    else:\n",
    "        for i in d :\n",
    "            li += d\n",
    "            break\n",
    "        for i in range (1,len(li)):\n",
    "            li[0] = li[0] + li[i]\n",
    "        li = li[0]\n",
    "        # l1 = \"\".join(reversed(d))\n",
    "        # print(li[0])\n",
    "        li = li+ li[0]\n",
    "        # print(li)\n",
    "        liNew = li[1:]\n",
    "        # print(liNew)\n",
    "        random_string= []\n",
    "        for i in range(3):\n",
    "            random_character = chr(random.randint(33, 126))\n",
    "            random_string += random_character\n",
    "        # print(random_string)\n",
    "        for i in range (1,len(random_string)):\n",
    "            random_string[0] = random_string[0] + random_string[i]\n",
    "        random_string = random_string[0]\n",
    "        # print(random_string)\n",
    "        new_code = liNew+random_string\n",
    "        print(\"Secrete code is : \",new_code)\n",
    "        \n",
    "data = input(\"write the actual data : \")\n",
    "SecretCodeLanguageGenerator(data)"
   ]
  },
  {
   "cell_type": "code",
   "execution_count": 11,
   "id": "f0a27cbc",
   "metadata": {},
   "outputs": [
    {
     "name": "stdout",
     "output_type": "stream",
     "text": [
      "its greter than or equal to 10\n"
     ]
    }
   ],
   "source": [
    "# Short hand if else statements\n",
    "a = 10\n",
    "print(\"its greter than or equal to 10\") if a >=10 else  print(8) if (a ==8)  else  (\"less than 10\")"
   ]
  },
  {
   "cell_type": "code",
   "execution_count": 1,
   "id": "2e6e814a",
   "metadata": {},
   "outputs": [
    {
     "name": "stdout",
     "output_type": "stream",
     "text": [
      "1.4.4\n"
     ]
    }
   ],
   "source": [
    "# Virtual Environment in Python\n",
    "import pandas as pd\n",
    "print(pd.__version__)"
   ]
  },
  {
   "cell_type": "code",
   "execution_count": 6,
   "id": "06b30de9",
   "metadata": {},
   "outputs": [
    {
     "data": {
      "text/html": [
       "<div>\n",
       "<style scoped>\n",
       "    .dataframe tbody tr th:only-of-type {\n",
       "        vertical-align: middle;\n",
       "    }\n",
       "\n",
       "    .dataframe tbody tr th {\n",
       "        vertical-align: top;\n",
       "    }\n",
       "\n",
       "    .dataframe thead th {\n",
       "        text-align: right;\n",
       "    }\n",
       "</style>\n",
       "<table border=\"1\" class=\"dataframe\">\n",
       "  <thead>\n",
       "    <tr style=\"text-align: right;\">\n",
       "      <th></th>\n",
       "      <th>Title</th>\n",
       "      <th>Price</th>\n",
       "      <th>Rating</th>\n",
       "      <th>Availability</th>\n",
       "    </tr>\n",
       "  </thead>\n",
       "  <tbody>\n",
       "    <tr>\n",
       "      <th>0</th>\n",
       "      <td>A Light in the Attic</td>\n",
       "      <td>£51.77</td>\n",
       "      <td>Three</td>\n",
       "      <td>In stock</td>\n",
       "    </tr>\n",
       "    <tr>\n",
       "      <th>1</th>\n",
       "      <td>Tipping the Velvet</td>\n",
       "      <td>£53.74</td>\n",
       "      <td>One</td>\n",
       "      <td>In stock</td>\n",
       "    </tr>\n",
       "    <tr>\n",
       "      <th>2</th>\n",
       "      <td>Soumission</td>\n",
       "      <td>£50.10</td>\n",
       "      <td>One</td>\n",
       "      <td>In stock</td>\n",
       "    </tr>\n",
       "    <tr>\n",
       "      <th>3</th>\n",
       "      <td>Sharp Objects</td>\n",
       "      <td>£47.82</td>\n",
       "      <td>Four</td>\n",
       "      <td>In stock</td>\n",
       "    </tr>\n",
       "    <tr>\n",
       "      <th>4</th>\n",
       "      <td>Sapiens: A Brief History of Humankind</td>\n",
       "      <td>£54.23</td>\n",
       "      <td>Five</td>\n",
       "      <td>In stock</td>\n",
       "    </tr>\n",
       "    <tr>\n",
       "      <th>5</th>\n",
       "      <td>The Requiem Red</td>\n",
       "      <td>£22.65</td>\n",
       "      <td>One</td>\n",
       "      <td>In stock</td>\n",
       "    </tr>\n",
       "    <tr>\n",
       "      <th>6</th>\n",
       "      <td>The Dirty Little Secrets of Getting Your Dream...</td>\n",
       "      <td>£33.34</td>\n",
       "      <td>Four</td>\n",
       "      <td>In stock</td>\n",
       "    </tr>\n",
       "    <tr>\n",
       "      <th>7</th>\n",
       "      <td>The Coming Woman: A Novel Based on the Life of...</td>\n",
       "      <td>£17.93</td>\n",
       "      <td>Three</td>\n",
       "      <td>In stock</td>\n",
       "    </tr>\n",
       "    <tr>\n",
       "      <th>8</th>\n",
       "      <td>The Boys in the Boat: Nine Americans and Their...</td>\n",
       "      <td>£22.60</td>\n",
       "      <td>Four</td>\n",
       "      <td>In stock</td>\n",
       "    </tr>\n",
       "    <tr>\n",
       "      <th>9</th>\n",
       "      <td>The Black Maria</td>\n",
       "      <td>£52.15</td>\n",
       "      <td>One</td>\n",
       "      <td>In stock</td>\n",
       "    </tr>\n",
       "    <tr>\n",
       "      <th>10</th>\n",
       "      <td>Starving Hearts (Triangular Trade Trilogy, #1)</td>\n",
       "      <td>£13.99</td>\n",
       "      <td>Two</td>\n",
       "      <td>In stock</td>\n",
       "    </tr>\n",
       "    <tr>\n",
       "      <th>11</th>\n",
       "      <td>Shakespeare's Sonnets</td>\n",
       "      <td>£20.66</td>\n",
       "      <td>Four</td>\n",
       "      <td>In stock</td>\n",
       "    </tr>\n",
       "    <tr>\n",
       "      <th>12</th>\n",
       "      <td>Set Me Free</td>\n",
       "      <td>£17.46</td>\n",
       "      <td>Five</td>\n",
       "      <td>In stock</td>\n",
       "    </tr>\n",
       "    <tr>\n",
       "      <th>13</th>\n",
       "      <td>Scott Pilgrim's Precious Little Life (Scott Pi...</td>\n",
       "      <td>£52.29</td>\n",
       "      <td>Five</td>\n",
       "      <td>In stock</td>\n",
       "    </tr>\n",
       "    <tr>\n",
       "      <th>14</th>\n",
       "      <td>Rip it Up and Start Again</td>\n",
       "      <td>£35.02</td>\n",
       "      <td>Five</td>\n",
       "      <td>In stock</td>\n",
       "    </tr>\n",
       "    <tr>\n",
       "      <th>15</th>\n",
       "      <td>Our Band Could Be Your Life: Scenes from the A...</td>\n",
       "      <td>£57.25</td>\n",
       "      <td>Three</td>\n",
       "      <td>In stock</td>\n",
       "    </tr>\n",
       "    <tr>\n",
       "      <th>16</th>\n",
       "      <td>Olio</td>\n",
       "      <td>£23.88</td>\n",
       "      <td>One</td>\n",
       "      <td>In stock</td>\n",
       "    </tr>\n",
       "    <tr>\n",
       "      <th>17</th>\n",
       "      <td>Mesaerion: The Best Science Fiction Stories 18...</td>\n",
       "      <td>£37.59</td>\n",
       "      <td>One</td>\n",
       "      <td>In stock</td>\n",
       "    </tr>\n",
       "    <tr>\n",
       "      <th>18</th>\n",
       "      <td>Libertarianism for Beginners</td>\n",
       "      <td>£51.33</td>\n",
       "      <td>Two</td>\n",
       "      <td>In stock</td>\n",
       "    </tr>\n",
       "    <tr>\n",
       "      <th>19</th>\n",
       "      <td>It's Only the Himalayas</td>\n",
       "      <td>£45.17</td>\n",
       "      <td>Two</td>\n",
       "      <td>In stock</td>\n",
       "    </tr>\n",
       "  </tbody>\n",
       "</table>\n",
       "</div>"
      ],
      "text/plain": [
       "                                                Title   Price Rating  \\\n",
       "0                                A Light in the Attic  £51.77  Three   \n",
       "1                                  Tipping the Velvet  £53.74    One   \n",
       "2                                          Soumission  £50.10    One   \n",
       "3                                       Sharp Objects  £47.82   Four   \n",
       "4               Sapiens: A Brief History of Humankind  £54.23   Five   \n",
       "5                                     The Requiem Red  £22.65    One   \n",
       "6   The Dirty Little Secrets of Getting Your Dream...  £33.34   Four   \n",
       "7   The Coming Woman: A Novel Based on the Life of...  £17.93  Three   \n",
       "8   The Boys in the Boat: Nine Americans and Their...  £22.60   Four   \n",
       "9                                     The Black Maria  £52.15    One   \n",
       "10     Starving Hearts (Triangular Trade Trilogy, #1)  £13.99    Two   \n",
       "11                              Shakespeare's Sonnets  £20.66   Four   \n",
       "12                                        Set Me Free  £17.46   Five   \n",
       "13  Scott Pilgrim's Precious Little Life (Scott Pi...  £52.29   Five   \n",
       "14                          Rip it Up and Start Again  £35.02   Five   \n",
       "15  Our Band Could Be Your Life: Scenes from the A...  £57.25  Three   \n",
       "16                                               Olio  £23.88    One   \n",
       "17  Mesaerion: The Best Science Fiction Stories 18...  £37.59    One   \n",
       "18                       Libertarianism for Beginners  £51.33    Two   \n",
       "19                            It's Only the Himalayas  £45.17    Two   \n",
       "\n",
       "   Availability  \n",
       "0      In stock  \n",
       "1      In stock  \n",
       "2      In stock  \n",
       "3      In stock  \n",
       "4      In stock  \n",
       "5      In stock  \n",
       "6      In stock  \n",
       "7      In stock  \n",
       "8      In stock  \n",
       "9      In stock  \n",
       "10     In stock  \n",
       "11     In stock  \n",
       "12     In stock  \n",
       "13     In stock  \n",
       "14     In stock  \n",
       "15     In stock  \n",
       "16     In stock  \n",
       "17     In stock  \n",
       "18     In stock  \n",
       "19     In stock  "
      ]
     },
     "execution_count": 6,
     "metadata": {},
     "output_type": "execute_result"
    }
   ],
   "source": [
    "# How import works in Python\n",
    "import pandas\n",
    "pandas.read_csv(r\"C:\\Users\\Soumyajit\\OneDrive\\Desktop\\aiml\\book_data.csv\")"
   ]
  },
  {
   "cell_type": "code",
   "execution_count": 7,
   "id": "6b1a0306",
   "metadata": {},
   "outputs": [
    {
     "data": {
      "text/plain": [
       "4"
      ]
     },
     "execution_count": 7,
     "metadata": {},
     "output_type": "execute_result"
    }
   ],
   "source": [
    "import math\n",
    "math.floor(4.2346)"
   ]
  },
  {
   "cell_type": "code",
   "execution_count": 10,
   "id": "4fa99fe6",
   "metadata": {},
   "outputs": [
    {
     "name": "stdout",
     "output_type": "stream",
     "text": [
      "3.141592653589793\n"
     ]
    }
   ],
   "source": [
    "from math import sqrt, pi\n",
    "print(pi)"
   ]
  },
  {
   "cell_type": "code",
   "execution_count": 13,
   "id": "1265087c",
   "metadata": {},
   "outputs": [
    {
     "name": "stdout",
     "output_type": "stream",
     "text": [
      "3.0\n"
     ]
    }
   ],
   "source": [
    "from math import *\n",
    "print(sqrt(9))"
   ]
  },
  {
   "cell_type": "code",
   "execution_count": 20,
   "id": "fb99ad10",
   "metadata": {},
   "outputs": [
    {
     "name": "stdout",
     "output_type": "stream",
     "text": [
      "5.0\n",
      "3.141592653589793\n"
     ]
    }
   ],
   "source": [
    "from math import pi, sqrt as s\n",
    "print(sqrt(25))\n",
    "print(pi)"
   ]
  },
  {
   "cell_type": "code",
   "execution_count": 23,
   "id": "08f6ef14",
   "metadata": {},
   "outputs": [
    {
     "name": "stdout",
     "output_type": "stream",
     "text": [
      "['__doc__', '__loader__', '__name__', '__package__', '__spec__', 'acos', 'acosh', 'asin', 'asinh', 'atan', 'atan2', 'atanh', 'ceil', 'comb', 'copysign', 'cos', 'cosh', 'degrees', 'dist', 'e', 'erf', 'erfc', 'exp', 'expm1', 'fabs', 'factorial', 'floor', 'fmod', 'frexp', 'fsum', 'gamma', 'gcd', 'hypot', 'inf', 'isclose', 'isfinite', 'isinf', 'isnan', 'isqrt', 'lcm', 'ldexp', 'lgamma', 'log', 'log10', 'log1p', 'log2', 'modf', 'nan', 'nextafter', 'perm', 'pi', 'pow', 'prod', 'radians', 'remainder', 'sin', 'sinh', 'sqrt', 'tan', 'tanh', 'tau', 'trunc', 'ulp']\n"
     ]
    }
   ],
   "source": [
    "import math\n",
    "print(dir (math))"
   ]
  },
  {
   "cell_type": "code",
   "execution_count": 24,
   "id": "a4aca91a",
   "metadata": {},
   "outputs": [
    {
     "name": "stdout",
     "output_type": "stream",
     "text": [
      "6.283185307179586 <class 'float'>\n"
     ]
    }
   ],
   "source": [
    "print(math.tau, type(math.tau))"
   ]
  },
  {
   "cell_type": "code",
   "execution_count": 3,
   "id": "b20fd9e1",
   "metadata": {},
   "outputs": [],
   "source": [
    "def welcome():\n",
    "    print(\"hey welcome\")\n",
    "    "
   ]
  },
  {
   "cell_type": "code",
   "execution_count": 6,
   "id": "2e3858f7",
   "metadata": {},
   "outputs": [
    {
     "name": "stdout",
     "output_type": "stream",
     "text": [
      "4\n",
      "8\n",
      "8\n",
      "5\n",
      "18\n"
     ]
    }
   ],
   "source": [
    "# Local vs Global Variables in Python\n",
    "x = 4\n",
    "y = 8\n",
    "print(x)\n",
    "print(y)\n",
    "def hello():\n",
    "    x = 5\n",
    "    global y\n",
    "    print(y)\n",
    "    print(x)\n",
    "    y = y+10\n",
    "\n",
    "hello()\n",
    "print(y)"
   ]
  },
  {
   "cell_type": "code",
   "execution_count": 4,
   "id": "bf6ac42d",
   "metadata": {},
   "outputs": [],
   "source": [
    "# File IO in Python\n",
    "f = open(r'C:\\Users\\Soumyajit\\OneDrive\\Desktop\\aiml\\__pycache__\\demofile.txt')"
   ]
  },
  {
   "cell_type": "code",
   "execution_count": 5,
   "id": "c410732f",
   "metadata": {},
   "outputs": [
    {
     "name": "stdout",
     "output_type": "stream",
     "text": [
      "['__call__', '__class__', '__delattr__', '__dir__', '__doc__', '__eq__', '__format__', '__ge__', '__getattribute__', '__gt__', '__hash__', '__init__', '__init_subclass__', '__le__', '__lt__', '__module__', '__name__', '__ne__', '__new__', '__qualname__', '__reduce__', '__reduce_ex__', '__repr__', '__self__', '__setattr__', '__sizeof__', '__str__', '__subclasshook__', '__text_signature__']\n"
     ]
    }
   ],
   "source": [
    "print(dir (open))"
   ]
  },
  {
   "cell_type": "code",
   "execution_count": 4,
   "id": "015f9711",
   "metadata": {},
   "outputs": [
    {
     "name": "stdout",
     "output_type": "stream",
     "text": [
      "10\n",
      "125\n",
      "10\n"
     ]
    }
   ],
   "source": [
    "# Lambda functions in Python\n",
    "def double(x):\n",
    "    return x*2\n",
    "\n",
    "def appl(fx, value):\n",
    "    return 6 + fx(value)\n",
    "\n",
    "double = lambda x: x * 2\n",
    "\n",
    "cube = lambda x : x*x*x\n",
    "\n",
    "\n",
    "\n",
    "print(double(5))\n",
    "print(cube(5))\n",
    "print(appl(lambda x : x*x,2))"
   ]
  },
  {
   "cell_type": "code",
   "execution_count": null,
   "id": "ac8f97a9",
   "metadata": {},
   "outputs": [],
   "source": [
    "# Map, Filter and Reduce in Python\n",
    " def cube(x)"
   ]
  },
  {
   "cell_type": "code",
   "execution_count": 10,
   "id": "4d81db57",
   "metadata": {},
   "outputs": [
    {
     "name": "stdout",
     "output_type": "stream",
     "text": [
      "False\n",
      "False\n"
     ]
    }
   ],
   "source": [
    "# 'is' vs '==' in Python \n",
    "a = 4\n",
    "b = \"4\"\n",
    "print(a is b)# exact location of object in memory\n",
    "print(a == b)# value"
   ]
  },
  {
   "cell_type": "code",
   "execution_count": 12,
   "id": "72a5611d",
   "metadata": {},
   "outputs": [
    {
     "name": "stdout",
     "output_type": "stream",
     "text": [
      "False\n",
      "True\n"
     ]
    }
   ],
   "source": [
    "a = [1,2,43]\n",
    "b = [1,2,43]\n",
    "\n",
    "print(a is b)\n",
    "print(a == b)"
   ]
  },
  {
   "cell_type": "code",
   "execution_count": 13,
   "id": "7e350dd0",
   "metadata": {},
   "outputs": [
    {
     "name": "stdout",
     "output_type": "stream",
     "text": [
      "True\n",
      "True\n"
     ]
    }
   ],
   "source": [
    "a = 3\n",
    "b = 3\n",
    "print(a is b)\n",
    "print(a == b)"
   ]
  },
  {
   "cell_type": "code",
   "execution_count": 15,
   "id": "2f59bd2d",
   "metadata": {},
   "outputs": [
    {
     "name": "stdout",
     "output_type": "stream",
     "text": [
      "True\n",
      "True\n"
     ]
    }
   ],
   "source": [
    "a = \"harry\"\n",
    "b = \"harry\"\n",
    "\n",
    "print(a is b)\n",
    "print(a == b)"
   ]
  },
  {
   "cell_type": "code",
   "execution_count": 19,
   "id": "a45b4edc",
   "metadata": {},
   "outputs": [
    {
     "name": "stdout",
     "output_type": "stream",
     "text": [
      "False\n",
      "True\n"
     ]
    }
   ],
   "source": [
    "a = (1, 2)\n",
    "b = (1, 2)\n",
    "print(a is b)\n",
    "print(a == b)"
   ]
  },
  {
   "cell_type": "code",
   "execution_count": 21,
   "id": "42202fbf",
   "metadata": {},
   "outputs": [
    {
     "name": "stdout",
     "output_type": "stream",
     "text": [
      "True\n",
      "True\n",
      "True\n"
     ]
    }
   ],
   "source": [
    "a = None\n",
    "b = None\n",
    "print(a is b)\n",
    "print(a == b)\n",
    "print(a is None)"
   ]
  },
  {
   "cell_type": "code",
   "execution_count": null,
   "id": "f1cedae4",
   "metadata": {},
   "outputs": [],
   "source": [
    "#  Snake Water Gun"
   ]
  },
  {
   "cell_type": "code",
   "execution_count": 8,
   "id": "2195f4fa",
   "metadata": {},
   "outputs": [
    {
     "name": "stdout",
     "output_type": "stream",
     "text": [
      "harry\n",
      "shubham accountant\n"
     ]
    }
   ],
   "source": [
    "# Classes and Objects in Python \n",
    "class person:\n",
    "    name = \"harry\"\n",
    "    occupation = \"software developer\"\n",
    "    networth = 10\n",
    "\n",
    "a = person()\n",
    "print(a.name)\n",
    "\n",
    "a = person()\n",
    "a.name = \"shubham\"\n",
    "a.occupation = \"accountant\"\n",
    "\n",
    "print(a.name, a.occupation)"
   ]
  },
  {
   "cell_type": "code",
   "execution_count": 11,
   "id": "d39c136c",
   "metadata": {},
   "outputs": [
    {
     "name": "stdout",
     "output_type": "stream",
     "text": [
      "harry is a software developer\n"
     ]
    }
   ],
   "source": [
    "class person:\n",
    "    name = \"harry\"\n",
    "    occupation = \"software developer\"\n",
    "    networth = 10\n",
    "    def info(self):\n",
    "        print(f\"{self.name} is a {self.occupation}\")\n",
    "\n",
    "a = person()\n",
    "a.info()"
   ]
  },
  {
   "cell_type": "code",
   "execution_count": 16,
   "id": "91a7864f",
   "metadata": {},
   "outputs": [
    {
     "name": "stdout",
     "output_type": "stream",
     "text": [
      "Shubham is a Accountant\n",
      "Shio is a Develper\n",
      "harry is a software developer\n"
     ]
    }
   ],
   "source": [
    "class person:\n",
    "    name = \"harry\"\n",
    "    occupation = \"software developer\"\n",
    "    networth = 10\n",
    "    def info(self):\n",
    "        print(f\"{self.name} is a {self.occupation}\")\n",
    "\n",
    "a = person()\n",
    "b = person()\n",
    "c = person()\n",
    "a.name = \"Shubham\"\n",
    "a.occupation = \"Accountant\"\n",
    "a.info()\n",
    "\n",
    "a.name = \"Shio\"\n",
    "a.occupation = \"Develper\"\n",
    "a.info()\n",
    "c.info()"
   ]
  },
  {
   "cell_type": "code",
   "execution_count": 27,
   "id": "3a0c384b",
   "metadata": {},
   "outputs": [
    {
     "name": "stdout",
     "output_type": "stream",
     "text": [
      "Hey I am a Harry, im a  DEveloper\n",
      "Hey I am a Divya, im a  HR\n"
     ]
    }
   ],
   "source": [
    "# Constructors in Python\n",
    "class person:\n",
    "    def __init__(self, n , o):\n",
    "        self.name = n\n",
    "        self.occ = o\n",
    "        print(f\"Hey I am a {self.name}, im a  {self.occ}\")\n",
    "#     name = \"Harry\"\n",
    "#     occ = \"Developer\"\n",
    "    \n",
    "    def info(self):\n",
    "        print(f\"{self.name} is a {self.occ}\")\n",
    "\n",
    "a = person(\"Harry\", \"DEveloper\")\n",
    "b = person(\"Divya\", \"HR\")\n",
    "# print(a.name)\n",
    "# a.name = \"Divya\"\n",
    "# a.occ =\"HR\"\n",
    "# a.info()"
   ]
  },
  {
   "cell_type": "code",
   "execution_count": 29,
   "id": "7f155dbf",
   "metadata": {},
   "outputs": [
    {
     "name": "stdout",
     "output_type": "stream",
     "text": [
      "Good morning\n",
      "Hello world\n",
      "Thanks for using this function\n"
     ]
    }
   ],
   "source": [
    "# Decorators in Python\n",
    "def greet(fx):\n",
    "    def mfx():\n",
    "        print(\"Good morning\")\n",
    "        fx()\n",
    "        print(\"Thanks for using this function\")\n",
    "    return mfx\n",
    "@greet\n",
    "def hello():\n",
    "    print(\"Hello world\")\n",
    "    \n",
    "def add(a, b):\n",
    "    print(a+b)\n",
    "    \n",
    "hello()"
   ]
  },
  {
   "cell_type": "code",
   "execution_count": 33,
   "id": "c43fef90",
   "metadata": {},
   "outputs": [
    {
     "name": "stdout",
     "output_type": "stream",
     "text": [
      "Good morning\n",
      "3\n",
      "Thanks for using this function\n"
     ]
    }
   ],
   "source": [
    "def greet(fx):\n",
    "    def mfx(*args, **kwargs):\n",
    "        print(\"Good morning\")\n",
    "        fx(*args, **kwargs)\n",
    "        print(\"Thanks for using this function\")\n",
    "    return mfx\n",
    "def hello():\n",
    "    print(\"Hello world\")\n",
    "    \n",
    "def add(a, b):\n",
    "    print(a+b)\n",
    "    \n",
    "greet(add)(1,2)"
   ]
  },
  {
   "cell_type": "code",
   "execution_count": 37,
   "id": "bb3dc330",
   "metadata": {},
   "outputs": [
    {
     "name": "stdout",
     "output_type": "stream",
     "text": [
      "Good morning\n",
      "3\n",
      "Thanks for using this function\n"
     ]
    }
   ],
   "source": [
    "def greet(fx):\n",
    "    def mfx(*args, **kwargs):\n",
    "        print(\"Good morning\")\n",
    "        fx(*args, **kwargs)\n",
    "        print(\"Thanks for using this function\")\n",
    "    return mfx\n",
    "@greet\n",
    "def add(a, b):\n",
    "    print(a+b)\n",
    "def hello():\n",
    "    print(\"Hello world\")\n",
    "# greet(add)(1,2)\n",
    "add(1,2)"
   ]
  },
  {
   "cell_type": "code",
   "execution_count": 40,
   "id": "57672e4a",
   "metadata": {},
   "outputs": [
    {
     "name": "stdout",
     "output_type": "stream",
     "text": [
      "67.0\n",
      "value is 6.7\n"
     ]
    }
   ],
   "source": [
    "# Getters and Setters in Python\n",
    "class MyClass:\n",
    "    def __init__(self, value):\n",
    "        self._value = value\n",
    "    def show(self):\n",
    "        print(f\"value is {self._value}\")\n",
    "        \n",
    "    @property\n",
    "    def ten_value(self):\n",
    "        return 10 * self._value\n",
    "    \n",
    "    @ten_value.setter\n",
    "    def ten_value(self, new_value):\n",
    "        self._value = new_value/10\n",
    "obj = MyClass(10)\n",
    "obj.ten_value = 67\n",
    "print(obj.ten_value)\n",
    "obj.show()"
   ]
  },
  {
   "cell_type": "code",
   "execution_count": 19,
   "id": "f90ea852",
   "metadata": {},
   "outputs": [
    {
     "name": "stdout",
     "output_type": "stream",
     "text": [
      "I am Rohan Sadhuka my employee id is 123\n",
      "I am Riya Ghosh my employee id is 2345\n",
      "i am specifically a software developer\n",
      "B.tech\n"
     ]
    }
   ],
   "source": [
    "# Inheritance in Python\n",
    "class Employee:\n",
    "    def __init__(self, name, id):\n",
    "        self.name = name\n",
    "        self.id = id\n",
    "    def showdetails(self):\n",
    "        print(f\"I am {self.name} my employee id is {self.id}\")\n",
    "class Developer(Employee):\n",
    "    def details(self):\n",
    "        self.qualification = \"B.tech\"\n",
    "        print(\"i am specifically a software developer\")\n",
    "a = Employee(\"Rohan Sadhuka\", 123)\n",
    "a.showdetails()\n",
    "b = Developer(\"Riya Ghosh\", 2345)\n",
    "b.showdetails()\n",
    "b.details()\n",
    "print(b.qualification)"
   ]
  },
  {
   "cell_type": "code",
   "execution_count": 23,
   "id": "8238d123",
   "metadata": {},
   "outputs": [
    {
     "name": "stdout",
     "output_type": "stream",
     "text": [
      "2 new book added and the books are ['asd', 'aasdf']\n",
      "3 new book added and the books are ['asd', 'aasdf', 'sddvd', 'ppsdf', 'gfds']\n",
      "total books in the library =  5\n"
     ]
    }
   ],
   "source": [
    "# Library Management System in Python\n",
    "class Library:\n",
    "    def __init__(self, books, number_of_books):\n",
    "        self.books = books\n",
    "        self.number_of_books = number_of_books\n",
    "    def inside_library(self):\n",
    "        self.number_of_books = number_of_books + self.number_of_books\n",
    "        print(f\"{self.number_of_books} new book added and the books are {self.books}\")\n",
    "\n",
    "        return self.number_of_books\n",
    "books_list = [\"asd\", \"aasdf\"]\n",
    "books_list_size = len(books_list)\n",
    "number_of_books = 0\n",
    "a = Library(books_list,books_list_size )\n",
    "total_books = a.inside_library()\n",
    "temp = total_books\n",
    "books_list2 = [\"sddvd\", \"ppsdf\", \"gfds\"]\n",
    "books_list_size2 = len(books_list2)\n",
    "b = Library(books_list+books_list2,books_list_size2 )\n",
    "totalfinal_books = temp + b.inside_library()\n",
    "print(\"total books in the library = \", totalfinal_books)"
   ]
  },
  {
   "cell_type": "code",
   "execution_count": null,
   "id": "b171016c",
   "metadata": {},
   "outputs": [],
   "source": [
    "# Static Methods in Python\n"
   ]
  },
  {
   "cell_type": "code",
   "execution_count": 10,
   "id": "7908e962",
   "metadata": {},
   "outputs": [
    {
     "name": "stdout",
     "output_type": "stream",
     "text": [
      "Rohit\n",
      "Bihit\n",
      "2\n",
      "Mohit\n",
      "3\n"
     ]
    }
   ],
   "source": [
    "# Instance variables vs Class variables in Python\n",
    "class company:\n",
    "    total_employ = 0\n",
    "    def __init__(self, name, age):\n",
    "        self.name = name\n",
    "        self.age = age\n",
    "        company.total_employ = company.total_employ + 1\n",
    "    def details(self):\n",
    "        print(f\"Employ name is {self.name} and age is = {self.age}\")\n",
    "e1 = company(\"Rohit\", 34)\n",
    "print(e1.name)\n",
    "# print(e1.total_employ)\n",
    "e1 = company(\"Bihit\", 24)\n",
    "print(e1.name)\n",
    "print(e1.total_employ)\n",
    "e1 = company(\"Mohit\", 51)\n",
    "print(e1.name)\n",
    "print(e1.total_employ)"
   ]
  },
  {
   "cell_type": "code",
   "execution_count": 4,
   "id": "7426f565",
   "metadata": {},
   "outputs": [
    {
     "name": "stdout",
     "output_type": "stream",
     "text": [
      "Harry\n",
      "12000\n",
      "Harry\n",
      "12000\n"
     ]
    }
   ],
   "source": [
    "# Class Methods as Alternative Constructors in Python\n",
    "class Employee:\n",
    "    def __init__(self, name, salary):\n",
    "        self.name = name\n",
    "        self.salary = salary\n",
    "e1 = Employee(\"Harry\", 12000)\n",
    "print(e1.name)\n",
    "print(e1.salary)\n",
    "string = \"Harry-12000\"\n",
    "e2 = Employee(string.split(\"-\")[0],string.split(\"-\")[1])\n",
    "print(e2.name)\n",
    "print(e.salary)"
   ]
  },
  {
   "cell_type": "code",
   "execution_count": 11,
   "id": "15c67960",
   "metadata": {},
   "outputs": [
    {
     "name": "stdout",
     "output_type": "stream",
     "text": [
      "Harry\n",
      "12000\n",
      "Harry\n",
      "12000\n",
      "24000\n"
     ]
    }
   ],
   "source": [
    "class Employee:\n",
    "    def __init__(self, name, salary):\n",
    "        self.name = name\n",
    "        self.salary = salary\n",
    "    @classmethod\n",
    "    def fromStr(cls, string):\n",
    "        return cls(string.split(\"-\")[0],int(string.split(\"-\")[1]))\n",
    "        \n",
    "e1 = Employee(\"Harry\", 12000)\n",
    "print(e1.name)\n",
    "print(e1.salary)\n",
    "string = \"Harry-12000\"\n",
    "e2 = Employee.fromStr(string)\n",
    "print(e2.name)\n",
    "print(e2.salary)\n",
    "print(2*e2.salary)"
   ]
  },
  {
   "cell_type": "code",
   "execution_count": 17,
   "id": "702a3cf2",
   "metadata": {},
   "outputs": [
    {
     "name": "stdout",
     "output_type": "stream",
     "text": [
      "['__add__', '__class__', '__class_getitem__', '__contains__', '__delattr__', '__delitem__', '__dir__', '__doc__', '__eq__', '__format__', '__ge__', '__getattribute__', '__getitem__', '__gt__', '__hash__', '__iadd__', '__imul__', '__init__', '__init_subclass__', '__iter__', '__le__', '__len__', '__lt__', '__mul__', '__ne__', '__new__', '__reduce__', '__reduce_ex__', '__repr__', '__reversed__', '__rmul__', '__setattr__', '__setitem__', '__sizeof__', '__str__', '__subclasshook__', 'append', 'clear', 'copy', 'count', 'extend', 'index', 'insert', 'pop', 'remove', 'reverse', 'sort']\n",
      "<method-wrapper '__add__' of list object at 0x0000018AD30FB1C0>\n",
      "['__add__', '__class__', '__class_getitem__', '__contains__', '__delattr__', '__dir__', '__doc__', '__eq__', '__format__', '__ge__', '__getattribute__', '__getitem__', '__getnewargs__', '__gt__', '__hash__', '__init__', '__init_subclass__', '__iter__', '__le__', '__len__', '__lt__', '__mul__', '__ne__', '__new__', '__reduce__', '__reduce_ex__', '__repr__', '__rmul__', '__setattr__', '__sizeof__', '__str__', '__subclasshook__', 'count', 'index']\n",
      "<method-wrapper '__add__' of tuple object at 0x0000018AD2C74CC0>\n"
     ]
    }
   ],
   "source": [
    "# dir, __dict__ and help method in Python\n",
    "x = [1,2,3]\n",
    "print(dir(x))\n",
    "print(x.__add__)\n",
    "\n",
    "y = (1,2,3)\n",
    "print(dir(y))\n",
    "print(y.__add__)"
   ]
  },
  {
   "cell_type": "code",
   "execution_count": 21,
   "id": "dcec821b",
   "metadata": {},
   "outputs": [
    {
     "name": "stdout",
     "output_type": "stream",
     "text": [
      "{'name': 'john', 'age': 30, 'version': 1}\n",
      "Help on class str in module builtins:\n",
      "\n",
      "class str(object)\n",
      " |  str(object='') -> str\n",
      " |  str(bytes_or_buffer[, encoding[, errors]]) -> str\n",
      " |  \n",
      " |  Create a new string object from the given object. If encoding or\n",
      " |  errors is specified, then the object must expose a data buffer\n",
      " |  that will be decoded using the given encoding and error handler.\n",
      " |  Otherwise, returns the result of object.__str__() (if defined)\n",
      " |  or repr(object).\n",
      " |  encoding defaults to sys.getdefaultencoding().\n",
      " |  errors defaults to 'strict'.\n",
      " |  \n",
      " |  Methods defined here:\n",
      " |  \n",
      " |  __add__(self, value, /)\n",
      " |      Return self+value.\n",
      " |  \n",
      " |  __contains__(self, key, /)\n",
      " |      Return key in self.\n",
      " |  \n",
      " |  __eq__(self, value, /)\n",
      " |      Return self==value.\n",
      " |  \n",
      " |  __format__(self, format_spec, /)\n",
      " |      Return a formatted version of the string as described by format_spec.\n",
      " |  \n",
      " |  __ge__(self, value, /)\n",
      " |      Return self>=value.\n",
      " |  \n",
      " |  __getattribute__(self, name, /)\n",
      " |      Return getattr(self, name).\n",
      " |  \n",
      " |  __getitem__(self, key, /)\n",
      " |      Return self[key].\n",
      " |  \n",
      " |  __getnewargs__(...)\n",
      " |  \n",
      " |  __gt__(self, value, /)\n",
      " |      Return self>value.\n",
      " |  \n",
      " |  __hash__(self, /)\n",
      " |      Return hash(self).\n",
      " |  \n",
      " |  __iter__(self, /)\n",
      " |      Implement iter(self).\n",
      " |  \n",
      " |  __le__(self, value, /)\n",
      " |      Return self<=value.\n",
      " |  \n",
      " |  __len__(self, /)\n",
      " |      Return len(self).\n",
      " |  \n",
      " |  __lt__(self, value, /)\n",
      " |      Return self<value.\n",
      " |  \n",
      " |  __mod__(self, value, /)\n",
      " |      Return self%value.\n",
      " |  \n",
      " |  __mul__(self, value, /)\n",
      " |      Return self*value.\n",
      " |  \n",
      " |  __ne__(self, value, /)\n",
      " |      Return self!=value.\n",
      " |  \n",
      " |  __repr__(self, /)\n",
      " |      Return repr(self).\n",
      " |  \n",
      " |  __rmod__(self, value, /)\n",
      " |      Return value%self.\n",
      " |  \n",
      " |  __rmul__(self, value, /)\n",
      " |      Return value*self.\n",
      " |  \n",
      " |  __sizeof__(self, /)\n",
      " |      Return the size of the string in memory, in bytes.\n",
      " |  \n",
      " |  __str__(self, /)\n",
      " |      Return str(self).\n",
      " |  \n",
      " |  capitalize(self, /)\n",
      " |      Return a capitalized version of the string.\n",
      " |      \n",
      " |      More specifically, make the first character have upper case and the rest lower\n",
      " |      case.\n",
      " |  \n",
      " |  casefold(self, /)\n",
      " |      Return a version of the string suitable for caseless comparisons.\n",
      " |  \n",
      " |  center(self, width, fillchar=' ', /)\n",
      " |      Return a centered string of length width.\n",
      " |      \n",
      " |      Padding is done using the specified fill character (default is a space).\n",
      " |  \n",
      " |  count(...)\n",
      " |      S.count(sub[, start[, end]]) -> int\n",
      " |      \n",
      " |      Return the number of non-overlapping occurrences of substring sub in\n",
      " |      string S[start:end].  Optional arguments start and end are\n",
      " |      interpreted as in slice notation.\n",
      " |  \n",
      " |  encode(self, /, encoding='utf-8', errors='strict')\n",
      " |      Encode the string using the codec registered for encoding.\n",
      " |      \n",
      " |      encoding\n",
      " |        The encoding in which to encode the string.\n",
      " |      errors\n",
      " |        The error handling scheme to use for encoding errors.\n",
      " |        The default is 'strict' meaning that encoding errors raise a\n",
      " |        UnicodeEncodeError.  Other possible values are 'ignore', 'replace' and\n",
      " |        'xmlcharrefreplace' as well as any other name registered with\n",
      " |        codecs.register_error that can handle UnicodeEncodeErrors.\n",
      " |  \n",
      " |  endswith(...)\n",
      " |      S.endswith(suffix[, start[, end]]) -> bool\n",
      " |      \n",
      " |      Return True if S ends with the specified suffix, False otherwise.\n",
      " |      With optional start, test S beginning at that position.\n",
      " |      With optional end, stop comparing S at that position.\n",
      " |      suffix can also be a tuple of strings to try.\n",
      " |  \n",
      " |  expandtabs(self, /, tabsize=8)\n",
      " |      Return a copy where all tab characters are expanded using spaces.\n",
      " |      \n",
      " |      If tabsize is not given, a tab size of 8 characters is assumed.\n",
      " |  \n",
      " |  find(...)\n",
      " |      S.find(sub[, start[, end]]) -> int\n",
      " |      \n",
      " |      Return the lowest index in S where substring sub is found,\n",
      " |      such that sub is contained within S[start:end].  Optional\n",
      " |      arguments start and end are interpreted as in slice notation.\n",
      " |      \n",
      " |      Return -1 on failure.\n",
      " |  \n",
      " |  format(...)\n",
      " |      S.format(*args, **kwargs) -> str\n",
      " |      \n",
      " |      Return a formatted version of S, using substitutions from args and kwargs.\n",
      " |      The substitutions are identified by braces ('{' and '}').\n",
      " |  \n",
      " |  format_map(...)\n",
      " |      S.format_map(mapping) -> str\n",
      " |      \n",
      " |      Return a formatted version of S, using substitutions from mapping.\n",
      " |      The substitutions are identified by braces ('{' and '}').\n",
      " |  \n",
      " |  index(...)\n",
      " |      S.index(sub[, start[, end]]) -> int\n",
      " |      \n",
      " |      Return the lowest index in S where substring sub is found,\n",
      " |      such that sub is contained within S[start:end].  Optional\n",
      " |      arguments start and end are interpreted as in slice notation.\n",
      " |      \n",
      " |      Raises ValueError when the substring is not found.\n",
      " |  \n",
      " |  isalnum(self, /)\n",
      " |      Return True if the string is an alpha-numeric string, False otherwise.\n",
      " |      \n",
      " |      A string is alpha-numeric if all characters in the string are alpha-numeric and\n",
      " |      there is at least one character in the string.\n",
      " |  \n",
      " |  isalpha(self, /)\n",
      " |      Return True if the string is an alphabetic string, False otherwise.\n",
      " |      \n",
      " |      A string is alphabetic if all characters in the string are alphabetic and there\n",
      " |      is at least one character in the string.\n",
      " |  \n",
      " |  isascii(self, /)\n",
      " |      Return True if all characters in the string are ASCII, False otherwise.\n",
      " |      \n",
      " |      ASCII characters have code points in the range U+0000-U+007F.\n",
      " |      Empty string is ASCII too.\n",
      " |  \n",
      " |  isdecimal(self, /)\n",
      " |      Return True if the string is a decimal string, False otherwise.\n",
      " |      \n",
      " |      A string is a decimal string if all characters in the string are decimal and\n",
      " |      there is at least one character in the string.\n",
      " |  \n",
      " |  isdigit(self, /)\n",
      " |      Return True if the string is a digit string, False otherwise.\n",
      " |      \n",
      " |      A string is a digit string if all characters in the string are digits and there\n",
      " |      is at least one character in the string.\n",
      " |  \n",
      " |  isidentifier(self, /)\n",
      " |      Return True if the string is a valid Python identifier, False otherwise.\n",
      " |      \n",
      " |      Call keyword.iskeyword(s) to test whether string s is a reserved identifier,\n",
      " |      such as \"def\" or \"class\".\n",
      " |  \n",
      " |  islower(self, /)\n",
      " |      Return True if the string is a lowercase string, False otherwise.\n",
      " |      \n",
      " |      A string is lowercase if all cased characters in the string are lowercase and\n",
      " |      there is at least one cased character in the string.\n",
      " |  \n",
      " |  isnumeric(self, /)\n",
      " |      Return True if the string is a numeric string, False otherwise.\n",
      " |      \n",
      " |      A string is numeric if all characters in the string are numeric and there is at\n",
      " |      least one character in the string.\n",
      " |  \n",
      " |  isprintable(self, /)\n",
      " |      Return True if the string is printable, False otherwise.\n",
      " |      \n",
      " |      A string is printable if all of its characters are considered printable in\n",
      " |      repr() or if it is empty.\n",
      " |  \n",
      " |  isspace(self, /)\n",
      " |      Return True if the string is a whitespace string, False otherwise.\n",
      " |      \n",
      " |      A string is whitespace if all characters in the string are whitespace and there\n",
      " |      is at least one character in the string.\n",
      " |  \n",
      " |  istitle(self, /)\n",
      " |      Return True if the string is a title-cased string, False otherwise.\n",
      " |      \n",
      " |      In a title-cased string, upper- and title-case characters may only\n",
      " |      follow uncased characters and lowercase characters only cased ones.\n",
      " |  \n",
      " |  isupper(self, /)\n",
      " |      Return True if the string is an uppercase string, False otherwise.\n",
      " |      \n",
      " |      A string is uppercase if all cased characters in the string are uppercase and\n",
      " |      there is at least one cased character in the string.\n",
      " |  \n",
      " |  join(self, iterable, /)\n",
      " |      Concatenate any number of strings.\n",
      " |      \n",
      " |      The string whose method is called is inserted in between each given string.\n",
      " |      The result is returned as a new string.\n",
      " |      \n",
      " |      Example: '.'.join(['ab', 'pq', 'rs']) -> 'ab.pq.rs'\n",
      " |  \n",
      " |  ljust(self, width, fillchar=' ', /)\n",
      " |      Return a left-justified string of length width.\n",
      " |      \n",
      " |      Padding is done using the specified fill character (default is a space).\n",
      " |  \n",
      " |  lower(self, /)\n",
      " |      Return a copy of the string converted to lowercase.\n",
      " |  \n",
      " |  lstrip(self, chars=None, /)\n",
      " |      Return a copy of the string with leading whitespace removed.\n",
      " |      \n",
      " |      If chars is given and not None, remove characters in chars instead.\n",
      " |  \n",
      " |  partition(self, sep, /)\n",
      " |      Partition the string into three parts using the given separator.\n",
      " |      \n",
      " |      This will search for the separator in the string.  If the separator is found,\n",
      " |      returns a 3-tuple containing the part before the separator, the separator\n",
      " |      itself, and the part after it.\n",
      " |      \n",
      " |      If the separator is not found, returns a 3-tuple containing the original string\n",
      " |      and two empty strings.\n",
      " |  \n",
      " |  removeprefix(self, prefix, /)\n",
      " |      Return a str with the given prefix string removed if present.\n",
      " |      \n",
      " |      If the string starts with the prefix string, return string[len(prefix):].\n",
      " |      Otherwise, return a copy of the original string.\n",
      " |  \n",
      " |  removesuffix(self, suffix, /)\n",
      " |      Return a str with the given suffix string removed if present.\n",
      " |      \n",
      " |      If the string ends with the suffix string and that suffix is not empty,\n",
      " |      return string[:-len(suffix)]. Otherwise, return a copy of the original\n",
      " |      string.\n",
      " |  \n",
      " |  replace(self, old, new, count=-1, /)\n",
      " |      Return a copy with all occurrences of substring old replaced by new.\n",
      " |      \n",
      " |        count\n",
      " |          Maximum number of occurrences to replace.\n",
      " |          -1 (the default value) means replace all occurrences.\n",
      " |      \n",
      " |      If the optional argument count is given, only the first count occurrences are\n",
      " |      replaced.\n",
      " |  \n",
      " |  rfind(...)\n",
      " |      S.rfind(sub[, start[, end]]) -> int\n",
      " |      \n",
      " |      Return the highest index in S where substring sub is found,\n",
      " |      such that sub is contained within S[start:end].  Optional\n",
      " |      arguments start and end are interpreted as in slice notation.\n",
      " |      \n",
      " |      Return -1 on failure.\n",
      " |  \n",
      " |  rindex(...)\n",
      " |      S.rindex(sub[, start[, end]]) -> int\n",
      " |      \n",
      " |      Return the highest index in S where substring sub is found,\n",
      " |      such that sub is contained within S[start:end].  Optional\n",
      " |      arguments start and end are interpreted as in slice notation.\n",
      " |      \n",
      " |      Raises ValueError when the substring is not found.\n",
      " |  \n",
      " |  rjust(self, width, fillchar=' ', /)\n",
      " |      Return a right-justified string of length width.\n",
      " |      \n",
      " |      Padding is done using the specified fill character (default is a space).\n",
      " |  \n",
      " |  rpartition(self, sep, /)\n",
      " |      Partition the string into three parts using the given separator.\n",
      " |      \n",
      " |      This will search for the separator in the string, starting at the end. If\n",
      " |      the separator is found, returns a 3-tuple containing the part before the\n",
      " |      separator, the separator itself, and the part after it.\n",
      " |      \n",
      " |      If the separator is not found, returns a 3-tuple containing two empty strings\n",
      " |      and the original string.\n",
      " |  \n",
      " |  rsplit(self, /, sep=None, maxsplit=-1)\n",
      " |      Return a list of the words in the string, using sep as the delimiter string.\n",
      " |      \n",
      " |        sep\n",
      " |          The delimiter according which to split the string.\n",
      " |          None (the default value) means split according to any whitespace,\n",
      " |          and discard empty strings from the result.\n",
      " |        maxsplit\n",
      " |          Maximum number of splits to do.\n",
      " |          -1 (the default value) means no limit.\n",
      " |      \n",
      " |      Splits are done starting at the end of the string and working to the front.\n",
      " |  \n",
      " |  rstrip(self, chars=None, /)\n",
      " |      Return a copy of the string with trailing whitespace removed.\n",
      " |      \n",
      " |      If chars is given and not None, remove characters in chars instead.\n",
      " |  \n",
      " |  split(self, /, sep=None, maxsplit=-1)\n",
      " |      Return a list of the words in the string, using sep as the delimiter string.\n",
      " |      \n",
      " |      sep\n",
      " |        The delimiter according which to split the string.\n",
      " |        None (the default value) means split according to any whitespace,\n",
      " |        and discard empty strings from the result.\n",
      " |      maxsplit\n",
      " |        Maximum number of splits to do.\n",
      " |        -1 (the default value) means no limit.\n",
      " |  \n",
      " |  splitlines(self, /, keepends=False)\n",
      " |      Return a list of the lines in the string, breaking at line boundaries.\n",
      " |      \n",
      " |      Line breaks are not included in the resulting list unless keepends is given and\n",
      " |      true.\n",
      " |  \n",
      " |  startswith(...)\n",
      " |      S.startswith(prefix[, start[, end]]) -> bool\n",
      " |      \n",
      " |      Return True if S starts with the specified prefix, False otherwise.\n",
      " |      With optional start, test S beginning at that position.\n",
      " |      With optional end, stop comparing S at that position.\n",
      " |      prefix can also be a tuple of strings to try.\n",
      " |  \n",
      " |  strip(self, chars=None, /)\n",
      " |      Return a copy of the string with leading and trailing whitespace removed.\n",
      " |      \n",
      " |      If chars is given and not None, remove characters in chars instead.\n",
      " |  \n",
      " |  swapcase(self, /)\n",
      " |      Convert uppercase characters to lowercase and lowercase characters to uppercase.\n",
      " |  \n",
      " |  title(self, /)\n",
      " |      Return a version of the string where each word is titlecased.\n",
      " |      \n",
      " |      More specifically, words start with uppercased characters and all remaining\n",
      " |      cased characters have lower case.\n",
      " |  \n",
      " |  translate(self, table, /)\n",
      " |      Replace each character in the string using the given translation table.\n",
      " |      \n",
      " |        table\n",
      " |          Translation table, which must be a mapping of Unicode ordinals to\n",
      " |          Unicode ordinals, strings, or None.\n",
      " |      \n",
      " |      The table must implement lookup/indexing via __getitem__, for instance a\n",
      " |      dictionary or list.  If this operation raises LookupError, the character is\n",
      " |      left untouched.  Characters mapped to None are deleted.\n",
      " |  \n",
      " |  upper(self, /)\n",
      " |      Return a copy of the string converted to uppercase.\n",
      " |  \n",
      " |  zfill(self, width, /)\n",
      " |      Pad a numeric string with zeros on the left, to fill a field of the given width.\n",
      " |      \n",
      " |      The string is never truncated.\n",
      " |  \n",
      " |  ----------------------------------------------------------------------\n",
      " |  Static methods defined here:\n",
      " |  \n",
      " |  __new__(*args, **kwargs) from builtins.type\n",
      " |      Create and return a new object.  See help(type) for accurate signature.\n",
      " |  \n",
      " |  maketrans(...)\n",
      " |      Return a translation table usable for str.translate().\n",
      " |      \n",
      " |      If there is only one argument, it must be a dictionary mapping Unicode\n",
      " |      ordinals (integers) or characters to Unicode ordinals, strings or None.\n",
      " |      Character keys will be then converted to ordinals.\n",
      " |      If there are two arguments, they must be strings of equal length, and\n",
      " |      in the resulting dictionary, each character in x will be mapped to the\n",
      " |      character at the same position in y. If there is a third argument, it\n",
      " |      must be a string, whose characters will be mapped to None in the result.\n",
      "\n",
      "None\n",
      "Help on class person in module __main__:\n",
      "\n",
      "class person(builtins.object)\n",
      " |  person(name, age)\n",
      " |  \n",
      " |  Methods defined here:\n",
      " |  \n",
      " |  __init__(self, name, age)\n",
      " |      Initialize self.  See help(type(self)) for accurate signature.\n",
      " |  \n",
      " |  ----------------------------------------------------------------------\n",
      " |  Data descriptors defined here:\n",
      " |  \n",
      " |  __dict__\n",
      " |      dictionary for instance variables (if defined)\n",
      " |  \n",
      " |  __weakref__\n",
      " |      list of weak references to the object (if defined)\n",
      "\n",
      "None\n"
     ]
    }
   ],
   "source": [
    "class person:\n",
    "    def __init__(self, name, age):\n",
    "        self.name = name\n",
    "        self.age = age\n",
    "        self.version = 1\n",
    "p = person(\"john\", 30)\n",
    "print(p.__dict__)\n",
    "\n",
    "print(help(str))\n",
    "print(help(person))"
   ]
  },
  {
   "cell_type": "code",
   "execution_count": 1,
   "id": "0b1a73bc",
   "metadata": {},
   "outputs": [],
   "source": [
    "# super keyword in Python\n",
    " "
   ]
  },
  {
   "cell_type": "code",
   "execution_count": 6,
   "id": "32aea13b",
   "metadata": {},
   "outputs": [
    {
     "name": "stdout",
     "output_type": "stream",
     "text": [
      "Harry\n",
      "5\n"
     ]
    }
   ],
   "source": [
    "# Magic/Dunder Methods in Python\n",
    "class Employee:\n",
    "    name = \"Harry\"\n",
    "    def __len__(self):\n",
    "        i = 0\n",
    "        for c in self.name:\n",
    "            i = i + 1\n",
    "        return i\n",
    "    \n",
    "e = Employee()\n",
    "print(e.name)\n",
    "print(len(e))"
   ]
  },
  {
   "cell_type": "code",
   "execution_count": 3,
   "id": "6838e0c8",
   "metadata": {},
   "outputs": [
    {
     "name": "stdout",
     "output_type": "stream",
     "text": [
      "Harry\n",
      "5\n"
     ]
    }
   ],
   "source": [
    "class Employee:\n",
    "    name = \"Harry\"\n",
    "    def __len__(self):\n",
    "        i = 0\n",
    "        for c in self.name:\n",
    "            i = i + 1\n",
    "        return i\n",
    "    \n",
    "e = Employee()\n",
    "print(e.name)\n",
    "print(len(e))"
   ]
  },
  {
   "cell_type": "code",
   "execution_count": 9,
   "id": "46feaf37",
   "metadata": {},
   "outputs": [
    {
     "name": "stdout",
     "output_type": "stream",
     "text": [
      "15\n",
      "15.700000000000001\n"
     ]
    }
   ],
   "source": [
    "# Method Overriding in Python\n",
    "class Shape:\n",
    "    def __init__(self, x, y):\n",
    "        self.x = x\n",
    "        self.y = y\n",
    "        \n",
    "    def area(self):\n",
    "        return self.x * self.y\n",
    "class Circle(Shape):\n",
    "    def __init__(self, radious):\n",
    "        self.radious = radious\n",
    "    def area(self):\n",
    "        return 3.14 * self.radious\n",
    "rec = Shape(3, 5)\n",
    "print(rec.area())\n",
    "\n",
    "c = Circle(5)\n",
    "print(c.area())"
   ]
  },
  {
   "cell_type": "code",
   "execution_count": 14,
   "id": "a970b5a5",
   "metadata": {},
   "outputs": [
    {
     "name": "stdout",
     "output_type": "stream",
     "text": [
      "3i + 5j + 6k\n",
      "1i + 2j + 9k\n",
      "4i + 7j + 15k\n",
      "<class '__main__.Vector'>\n"
     ]
    }
   ],
   "source": [
    "# Operator Overloading in Python\n",
    "class Vector:\n",
    "    def __init__(self, i, j, k):\n",
    "        self.i = i \n",
    "        self.j = j\n",
    "        self.k = k\n",
    "    def __str__(self): \n",
    "        return f\"{self.i}i + {self.j}j + {self.k}k\"\n",
    "    \n",
    "    def __add__(self, x):\n",
    "        return Vector(self.i + x.i , self.j + x.j , self.k + x.k)\n",
    "v1 = Vector(3, 5, 6)    \n",
    "print(v1)\n",
    "\n",
    "v2 = Vector(1, 2, 9)    \n",
    "print(v2) \n",
    "\n",
    "print(v1+v2)\n",
    "print(type(v1+v2))"
   ]
  },
  {
   "cell_type": "code",
   "execution_count": 9,
   "id": "a2c3b298",
   "metadata": {},
   "outputs": [
    {
     "name": "stdout",
     "output_type": "stream",
     "text": [
      "Animals are like to live in the jungle\n",
      "Tiger eat fruits\n",
      "I can see 10 cat beside my house\n",
      "cat eat fruits\n"
     ]
    }
   ],
   "source": [
    "class Animal:\n",
    "    def __init__(self, animal):\n",
    "        self.animal = animal\n",
    "        print(\"Animals are like to live in the jungle\")\n",
    "    def legs(self):\n",
    "        print(f\"{self.animal} eat fruits\")\n",
    "class Cat(Animal):\n",
    "    def __init__(self, animal, number):\n",
    "        self.animal = animal\n",
    "        self.number = number\n",
    "    def description(self):\n",
    "        print(f\"I can see {self.number} {self.animal} beside my house\")\n",
    "a = Animal(\"Tiger\")\n",
    "a.legs()\n",
    "c = Cat(\"cat\", 10)\n",
    "c.description()\n",
    "c.legs()"
   ]
  },
  {
   "cell_type": "code",
   "execution_count": 18,
   "id": "a021033d",
   "metadata": {
    "scrolled": true
   },
   "outputs": [
    {
     "name": "stdout",
     "output_type": "stream",
     "text": [
      "the person Rohan is 27 years old\n",
      "Rohan is a youtuber\n",
      "[<class '__main__.YoutuberEngineer'>, <class '__main__.Youtuber'>, <class '__main__.Engineer'>, <class 'object'>]\n"
     ]
    }
   ],
   "source": [
    "class Youtuber:\n",
    "    def __init__(self, name):\n",
    "        self.name = name\n",
    "    def profession(self):\n",
    "        print(f\"{self.name} is a youtuber\")\n",
    "    def editing(self):\n",
    "        print(\"he knows good editing\")\n",
    "class Engineer:\n",
    "    def __init__(self, name):\n",
    "        self.name = name\n",
    "    def profession(self):\n",
    "        print(f\"{self.name} is an engineer\")\n",
    "    def technology(self):\n",
    "        print(\"he has knowledge about technology\")\n",
    "class YoutuberEngineer(Youtuber,Engineer):\n",
    "    def __init__(self, name, age):\n",
    "        self.name = name\n",
    "        self.age = age\n",
    "    def description(self):\n",
    "        print(f\"the person {self.name} is {self.age} years old\")\n",
    "ye = YoutuberEngineer(\"Rohan\", 27)\n",
    "ye.description()\n",
    "ye.profession()\n",
    "print(YoutuberEngineer.mro())"
   ]
  },
  {
   "cell_type": "code",
   "execution_count": 35,
   "id": "77d0a2e7",
   "metadata": {},
   "outputs": [
    {
     "name": "stdout",
     "output_type": "stream",
     "text": [
      "most of the person in the family is of 30 years old\n",
      "he do Teaching\n",
      "Ashit belongs to Ghosh family\n"
     ]
    }
   ],
   "source": [
    "class Generation1:\n",
    "    def __init__(self, name, familyname):\n",
    "        self.familyname = familyname\n",
    "        self.name = name\n",
    "    def aboutfamily(self):\n",
    "        print(f\"{self.name} belongs to {self.familyname} family\")\n",
    "class Generation2(Generation1):\n",
    "    def __init__(self, occupation):\n",
    "        self.occupation = occupation\n",
    "        Generation1.__init__(self, \"Ashit\", \"Ghosh\")\n",
    "    def aboutwork(self):\n",
    "        print(f\"he do {self.occupation}\")\n",
    "        Generation1.aboutfamily(self)\n",
    "class Generation3(Generation2):\n",
    "    def __init__(self, averageage):\n",
    "        self.averageage = averageage\n",
    "        Generation2.__init__(self,\"Teaching\")\n",
    "    def aboutage(self):\n",
    "        print(f\"most of the person in the family is of {self.averageage} years old\")\n",
    "        Generation2.aboutwork(self)\n",
    "g3 = Generation3(30)\n",
    "g3.aboutage()"
   ]
  },
  {
   "cell_type": "code",
   "execution_count": 26,
   "id": "27d9e73d",
   "metadata": {},
   "outputs": [
    {
     "name": "stdout",
     "output_type": "stream",
     "text": [
      "Name: tommy\n",
      "Species: Dog\n",
      "Breed: Black\n",
      "[<class '__main__.GoldenRetriever'>, <class '__main__.Dog'>, <class '__main__.Animal'>, <class 'object'>]\n"
     ]
    }
   ],
   "source": [
    "class Animal:\n",
    "    def __init__(self, name, species):\n",
    "        self.name = name\n",
    "        self.species = species\n",
    "        \n",
    "    def show_details(self):\n",
    "        print(f\"Name: {self.name}\")\n",
    "        print(f\"Species: {self.species}\")\n",
    "        \n",
    "class Dog(Animal):\n",
    "    def __init__(self, name, breed):\n",
    "        Animal.__init__(self, name, species=\"Dog\")\n",
    "        self.breed = breed\n",
    "        \n",
    "    def show_details(self):\n",
    "        Animal.show_details(self)\n",
    "        print(f\"Breed: {self.breed}\")\n",
    "        \n",
    "class GoldenRetriever(Dog):\n",
    "    def __init__(self, name, color):\n",
    "        Dog.__init__(self, name, breed=\"Golden Retriever\")\n",
    "        self.color = color\n",
    "        \n",
    "    def show_details(self):\n",
    "        Dog.show_details(self)\n",
    "        print(f\"Color: {self.color}\")\n",
    "\n",
    "o = Dog(\"tommy\", \"Black\")\n",
    "o.show_details()\n",
    "print(GoldenRetriever.mro())"
   ]
  },
  {
   "cell_type": "code",
   "execution_count": 1,
   "id": "503e7149",
   "metadata": {},
   "outputs": [],
   "source": [
    "# Time Module in Python \n",
    "def usingwhile():\n",
    "    pass\n",
    "def usingFor"
   ]
  },
  {
   "cell_type": "code",
   "execution_count": 3,
   "id": "ff2533bf",
   "metadata": {},
   "outputs": [
    {
     "name": "stdout",
     "output_type": "stream",
     "text": [
      "False\n"
     ]
    }
   ],
   "source": [
    "# Walrus Operator in Python\n",
    "a = True\n",
    "print(a := False)"
   ]
  },
  {
   "cell_type": "code",
   "execution_count": 4,
   "id": "e7a858e2",
   "metadata": {},
   "outputs": [
    {
     "name": "stdout",
     "output_type": "stream",
     "text": [
      "5\n",
      "4\n",
      "3\n",
      "2\n",
      "1\n"
     ]
    }
   ],
   "source": [
    "numbers = [1,2, 3, 4, 5]\n",
    "while (n := len(numbers)) > 0:\n",
    "    print(numbers.pop())"
   ]
  },
  {
   "cell_type": "code",
   "execution_count": 5,
   "id": "d53c1db1",
   "metadata": {},
   "outputs": [
    {
     "name": "stdout",
     "output_type": "stream",
     "text": [
      "What food do you like?: apple\n",
      "What food do you like?: banana\n",
      "What food do you like?: mango\n",
      "What food do you like?: quit\n"
     ]
    }
   ],
   "source": [
    "foods = list()\n",
    "while(food := input(\"What food do you like?: \")) != \"quit\":\n",
    "    foods.append(food)"
   ]
  },
  {
   "cell_type": "code",
   "execution_count": 8,
   "id": "53463d17",
   "metadata": {},
   "outputs": [],
   "source": [
    "# Shutil Module in Python\n",
    "import shutil\n"
   ]
  },
  {
   "cell_type": "code",
   "execution_count": 2,
   "id": "efa0dcd3",
   "metadata": {},
   "outputs": [
    {
     "name": "stdout",
     "output_type": "stream",
     "text": [
      "<re.Match object; span=(605, 608), match='was'>\n"
     ]
    }
   ],
   "source": [
    "# Regular Expressions in Python\n",
    "import re\n",
    "pattern = \"was\"\n",
    "text = '''The sun's golden rays bathed the picturesque landscape in a \n",
    "warm glow, casting long shadows across the rolling hills. A gentle \n",
    "breeze rustled the leaves of the towering oak trees, creating a soothing \n",
    "melody in harmony with the chirping birds. Nature seemed to awaken with \n",
    "vibrant colors, as wildflowers bloomed in a riot of hues, painting the \n",
    "meadows with their delicate petals. A babbling brook meandered through the \n",
    "valley, its crystal-clear water glistening under the sunlight. In the \n",
    "distance, majestic mountains stood tall, their peaks crowned with snow \n",
    "that shimmered like diamonds. The air was filled with the earthy scent of \n",
    "freshly cut grass and the sweet fragrance of blossoming flowers. It was a \n",
    "scene of tranquility and serenity, where time seemed to slow down, allowing \n",
    "one to immerse themselves in the beauty of the natural world.''' \n",
    "match = re.search(pattern, text)\n",
    "print(match)"
   ]
  },
  {
   "cell_type": "code",
   "execution_count": null,
   "id": "578ab21d",
   "metadata": {},
   "outputs": [],
   "source": []
  }
 ],
 "metadata": {
  "kernelspec": {
   "display_name": "Python 3 (ipykernel)",
   "language": "python",
   "name": "python3"
  },
  "language_info": {
   "codemirror_mode": {
    "name": "ipython",
    "version": 3
   },
   "file_extension": ".py",
   "mimetype": "text/x-python",
   "name": "python",
   "nbconvert_exporter": "python",
   "pygments_lexer": "ipython3",
   "version": "3.9.13"
  }
 },
 "nbformat": 4,
 "nbformat_minor": 5
}
